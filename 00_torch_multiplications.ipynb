{
 "cells": [
  {
   "cell_type": "code",
   "execution_count": 1,
   "metadata": {},
   "outputs": [],
   "source": [
    "import torch"
   ]
  },
  {
   "cell_type": "code",
   "execution_count": 2,
   "metadata": {},
   "outputs": [
    {
     "data": {
      "text/plain": [
       "<torch._C.Generator at 0x23fce45c330>"
      ]
     },
     "execution_count": 2,
     "metadata": {},
     "output_type": "execute_result"
    }
   ],
   "source": [
    "import random\n",
    "seed = 42\n",
    "random.seed(seed)\n",
    "torch.manual_seed(seed)"
   ]
  },
  {
   "cell_type": "markdown",
   "metadata": {},
   "source": [
    "## Torch Matrix Multiplications"
   ]
  },
  {
   "cell_type": "markdown",
   "metadata": {},
   "source": [
    "    - torch.mm\n",
    "    - torch.mv\n",
    "    - torch.bmm\n",
    "    - torch.mul\n",
    "    - torch.matmul\n",
    "    - A*B (Here A and B are two tensors)"
   ]
  },
  {
   "cell_type": "markdown",
   "metadata": {},
   "source": [
    "## 1. torch.mm"
   ]
  },
  {
   "cell_type": "code",
   "execution_count": 3,
   "metadata": {},
   "outputs": [],
   "source": [
    "# torch.manual_seed(seed)\n",
    "\n",
    "# mat1 = torch.randint(-10, 10, (2,3))\n",
    "# print(f\"mat1 : {mat1}\")\n",
    "# mat2 = torch.randint(-10, 10, (3,3))\n",
    "# print(f\"mat2 : {mat2}\")\n",
    "\n",
    "\n",
    "mat1 = torch.tensor([\n",
    "    [-8, -3,  6],\n",
    "    [ 4, -4,  5]\n",
    "    ])\n",
    "mat2 = torch.tensor([\n",
    "    [-10,  -6,   0],\n",
    "    [  3,   8,   4],\n",
    "    [  0,   4,   1]\n",
    "    ])"
   ]
  },
  {
   "cell_type": "markdown",
   "metadata": {},
   "source": [
    "matrix multiplication using torch.mm\n",
    "\n",
    "mat1 (2,3)  * mat2 (3,3) = mat3 (2,3)"
   ]
  },
  {
   "cell_type": "code",
   "execution_count": 4,
   "metadata": {},
   "outputs": [],
   "source": [
    "mat3 = torch.mm(mat1, mat2)"
   ]
  },
  {
   "cell_type": "code",
   "execution_count": 5,
   "metadata": {},
   "outputs": [
    {
     "name": "stdout",
     "output_type": "stream",
     "text": [
      "tensor([[ 71,  48,  -6],\n",
      "        [-52, -36, -11]])\n"
     ]
    }
   ],
   "source": [
    "print(mat3)"
   ]
  },
  {
   "cell_type": "markdown",
   "metadata": {},
   "source": [
    "## 2. torch.mv"
   ]
  },
  {
   "cell_type": "code",
   "execution_count": 6,
   "metadata": {},
   "outputs": [],
   "source": [
    "mat = torch.tensor([\n",
    "    [-8, -3,  6],\n",
    "    [ 4, -4,  5]\n",
    "    ])\n",
    "vec = torch.tensor([-10,  -6,   0])\n",
    "vec2d = torch.tensor([\n",
    "    [-10],  \n",
    "    [-6],   \n",
    "    [0]])\n"
   ]
  },
  {
   "cell_type": "code",
   "execution_count": 7,
   "metadata": {},
   "outputs": [
    {
     "name": "stdout",
     "output_type": "stream",
     "text": [
      "mat.shape :  torch.Size([2, 3])\n",
      "vec.shape :  torch.Size([3])\n",
      "vec2d.shape :  torch.Size([3, 1])\n"
     ]
    }
   ],
   "source": [
    "print(\"mat.shape : \", mat.shape)\n",
    "print(\"vec.shape : \", vec.shape)\n",
    "print(\"vec2d.shape : \", vec2d.shape)"
   ]
  },
  {
   "cell_type": "markdown",
   "metadata": {},
   "source": [
    "matrix vector multiplication using torch.mv\n",
    "\n",
    "mat (2,3) * vec (3,) = result (2,)"
   ]
  },
  {
   "cell_type": "code",
   "execution_count": 8,
   "metadata": {},
   "outputs": [],
   "source": [
    "result = torch.mv(mat,vec)"
   ]
  },
  {
   "cell_type": "code",
   "execution_count": 9,
   "metadata": {},
   "outputs": [
    {
     "name": "stdout",
     "output_type": "stream",
     "text": [
      "tensor([ 98, -16])\n"
     ]
    }
   ],
   "source": [
    "print(result)"
   ]
  },
  {
   "cell_type": "markdown",
   "metadata": {},
   "source": [
    "using torch.mm with two 2d matrix\n",
    "\n",
    "mat (2,3) * vec2d (3,1) = result (2,1)"
   ]
  },
  {
   "cell_type": "code",
   "execution_count": 10,
   "metadata": {},
   "outputs": [],
   "source": [
    "result = torch.mm(mat,vec2d)"
   ]
  },
  {
   "cell_type": "code",
   "execution_count": 11,
   "metadata": {},
   "outputs": [
    {
     "name": "stdout",
     "output_type": "stream",
     "text": [
      "tensor([[ 98],\n",
      "        [-16]])\n"
     ]
    }
   ],
   "source": [
    "print(result)"
   ]
  },
  {
   "cell_type": "markdown",
   "metadata": {},
   "source": [
    "## 3. torch.bmm"
   ]
  },
  {
   "cell_type": "code",
   "execution_count": 12,
   "metadata": {},
   "outputs": [],
   "source": [
    "mat1 = torch.randn(10, 3, 4)\n",
    "mat2 = torch.randn(10, 4, 5)"
   ]
  },
  {
   "cell_type": "code",
   "execution_count": 13,
   "metadata": {},
   "outputs": [],
   "source": [
    "# print(mat1)"
   ]
  },
  {
   "cell_type": "code",
   "execution_count": 14,
   "metadata": {},
   "outputs": [],
   "source": [
    "# print(mat2)"
   ]
  },
  {
   "cell_type": "code",
   "execution_count": 15,
   "metadata": {},
   "outputs": [
    {
     "data": {
      "text/plain": [
       "torch.Size([10, 3, 5])"
      ]
     },
     "execution_count": 15,
     "metadata": {},
     "output_type": "execute_result"
    }
   ],
   "source": [
    "res = torch.bmm(mat1, mat2)\n",
    "res.size()"
   ]
  },
  {
   "cell_type": "markdown",
   "metadata": {},
   "source": [
    "## 4. torch.mul\n",
    "\n",
    "- broadcast\n",
    "- element wise multiplication "
   ]
  },
  {
   "cell_type": "code",
   "execution_count": 16,
   "metadata": {},
   "outputs": [
    {
     "name": "stdout",
     "output_type": "stream",
     "text": [
      "tensor([[ 80,  18,   0],\n",
      "        [ 12, -32,  20]])\n"
     ]
    }
   ],
   "source": [
    "# example 1\n",
    "mat1 = torch.tensor([\n",
    "    [-8, -3,  6],\n",
    "    [ 4, -4,  5]\n",
    "    ])\n",
    "mask = torch.tensor([\n",
    "    [-10,  -6,   0],\n",
    "    [  3,   8,   4]\n",
    "    ])\n",
    "\n",
    "res = torch.mul(mat1,mask)\n",
    "print(res)"
   ]
  },
  {
   "cell_type": "code",
   "execution_count": 17,
   "metadata": {},
   "outputs": [
    {
     "name": "stdout",
     "output_type": "stream",
     "text": [
      "tensor([[ 80,  18,   0],\n",
      "        [-40,  24,   0],\n",
      "        [-30, -48,   0]])\n"
     ]
    }
   ],
   "source": [
    "# example 2\n",
    "mat1 = torch.tensor([\n",
    "    [-8, -3,  6],\n",
    "    [ 4, -4,  5],\n",
    "    [ 3,  8,  4]\n",
    "    ])\n",
    "mask = torch.tensor([\n",
    "    [-10,  -6,   0]\n",
    "    ])\n",
    "\n",
    "res = torch.mul(mat1,mask)\n",
    "print(res)"
   ]
  },
  {
   "cell_type": "markdown",
   "metadata": {},
   "source": [
    "## 5. A*B\n",
    "\n",
    "- broadcast\n",
    "- element wise"
   ]
  },
  {
   "cell_type": "code",
   "execution_count": 18,
   "metadata": {},
   "outputs": [
    {
     "name": "stdout",
     "output_type": "stream",
     "text": [
      "tensor([[ 80,  18,   0],\n",
      "        [ 12, -32,  20]])\n"
     ]
    }
   ],
   "source": [
    "# example 1\n",
    "mat1 = torch.tensor([\n",
    "    [-8, -3,  6],\n",
    "    [ 4, -4,  5]\n",
    "    ])\n",
    "mask = torch.tensor([\n",
    "    [-10,  -6,   0],\n",
    "    [  3,   8,   4]\n",
    "    ])\n",
    "\n",
    "res = torch.mul(mat1,mask)\n",
    "print(res)"
   ]
  },
  {
   "cell_type": "code",
   "execution_count": 19,
   "metadata": {},
   "outputs": [
    {
     "name": "stdout",
     "output_type": "stream",
     "text": [
      "tensor([[ 80,  18,   0],\n",
      "        [-40,  24,   0],\n",
      "        [-30, -48,   0]])\n"
     ]
    }
   ],
   "source": [
    "# example 2\n",
    "mat1 = torch.tensor([\n",
    "    [-8, -3,  6],\n",
    "    [ 4, -4,  5],\n",
    "    [ 3,  8,  4]\n",
    "    ])\n",
    "mask = torch.tensor([\n",
    "    [-10,  -6,   0]\n",
    "    ])\n",
    "\n",
    "res = torch.mul(mat1,mask)\n",
    "print(res)"
   ]
  },
  {
   "cell_type": "markdown",
   "metadata": {},
   "source": [
    "## 6. torch.matmul"
   ]
  },
  {
   "cell_type": "markdown",
   "metadata": {},
   "source": [
    "Matrix product of two tensors.\n",
    "\n",
    "The behavior depends on the dimensionality of the tensors as follows:\n",
    "\n",
    "If both tensors are 1-dimensional, the dot product (scalar) is returned.\n",
    "\n",
    "If both arguments are 2-dimensional, the matrix-matrix product is returned.\n",
    "\n",
    "If the first argument is 1-dimensional and the second argument is 2-dimensional, a 1 is prepended to its dimension for the purpose of the matrix multiply. After the matrix multiply, the prepended dimension is removed.\n",
    "\n",
    "If the first argument is 2-dimensional and the second argument is 1-dimensional, the matrix-vector product is returned.\n",
    "\n",
    "If both arguments are at least 1-dimensional and at least one argument is N-dimensional (where N > 2), then a batched matrix multiply is returned. If the first argument is 1-dimensional, a 1 is prepended to its dimension for the purpose of the batched matrix multiply and removed after. If the second argument is 1-dimensional, a 1 is appended to its dimension for the purpose of the batched matrix multiple and removed after. The non-matrix (i.e. batch) dimensions are broadcasted (and thus must be broadcastable). For example, if input is a (j * 1 * n * n)(j×1×n×n) tensor and other is a (k * n * n)(k×n×n) tensor, out will be a (j * k * n * n)(j×k×n×n) tensor.\n",
    "\n",
    "Note that the broadcasting logic only looks at the batch dimensions when determining if the inputs are broadcastable, and not the matrix dimensions. For example, if input is a (j * 1 * n * m)(j×1×n×m) tensor and other is a (k * m * p)(k×m×p) tensor, these inputs are valid for broadcasting even though the final two dimensions (i.e. the matrix dimensions) are different. out will be a (j * k * n * p)(j×k×n×p) tensor."
   ]
  },
  {
   "cell_type": "code",
   "execution_count": 20,
   "metadata": {},
   "outputs": [
    {
     "name": "stdout",
     "output_type": "stream",
     "text": [
      "torch.Size([])\n",
      "tensor(0.1348)\n"
     ]
    }
   ],
   "source": [
    "# vector x vector\n",
    "tensor1 = torch.randn(3)\n",
    "tensor2 = torch.randn(3)\n",
    "res = torch.matmul(tensor1, tensor2)\n",
    "print(res.shape)\n",
    "print(res)"
   ]
  },
  {
   "cell_type": "code",
   "execution_count": 21,
   "metadata": {},
   "outputs": [
    {
     "name": "stdout",
     "output_type": "stream",
     "text": [
      "torch.Size([3])\n",
      "tensor([-2.2125,  0.5829, -0.7331])\n"
     ]
    }
   ],
   "source": [
    "# matrix x vector\n",
    "tensor1 = torch.randn(3, 4)\n",
    "tensor2 = torch.randn(4)\n",
    "res = torch.matmul(tensor1, tensor2)\n",
    "print(res.shape)\n",
    "print(res)"
   ]
  },
  {
   "cell_type": "code",
   "execution_count": 22,
   "metadata": {},
   "outputs": [
    {
     "name": "stdout",
     "output_type": "stream",
     "text": [
      "tensor1:  tensor([[[-0.3182,  1.2154,  1.4200, -0.0547],\n",
      "         [ 0.0247, -1.0641, -0.7602, -0.4075],\n",
      "         [ 0.3105,  0.3715,  0.2697,  0.7900]],\n",
      "\n",
      "        [[ 0.9446, -1.5824,  0.9871,  1.1457],\n",
      "         [-2.7107, -0.6130,  1.3917,  0.2229],\n",
      "         [ 0.6839, -1.3246, -0.5161,  0.6002]],\n",
      "\n",
      "        [[ 0.4145,  1.3664,  1.3947, -0.7396],\n",
      "         [-0.4833, -0.7403,  0.3143,  0.1416],\n",
      "         [-0.3016, -1.4033, -1.3271, -0.9948]],\n",
      "\n",
      "        [[-0.4940,  1.1366, -0.4618,  1.4200],\n",
      "         [ 0.8211, -0.0675,  0.9491, -0.3983],\n",
      "         [ 0.6899, -1.3129,  0.0378, -1.1702]]])\n",
      "tensor2:  tensor([ 0.2344, -0.3407,  1.0171,  1.1458])\n",
      "torch.Size([4, 3])\n",
      "tensor([[ 0.8930, -0.8718,  1.1257],\n",
      "        [ 3.0773,  1.2443,  0.7744],\n",
      "        [ 0.2029,  0.6208, -2.0822],\n",
      "        [ 0.6542,  0.7244, -0.6933]])\n"
     ]
    }
   ],
   "source": [
    "# batched matrix x broadcasted vector\n",
    "tensor1 = torch.randn(4, 3, 4)\n",
    "print(\"tensor1: \",tensor1)\n",
    "tensor2 = torch.randn(4)\n",
    "print(\"tensor2: \",tensor2)\n",
    "res = torch.matmul(tensor1, tensor2)\n",
    "print(res.shape)\n",
    "print(res)"
   ]
  },
  {
   "cell_type": "code",
   "execution_count": 23,
   "metadata": {},
   "outputs": [
    {
     "name": "stdout",
     "output_type": "stream",
     "text": [
      "torch.Size([4, 3, 5])\n",
      "tensor([[[ 0.7550, -0.6106,  0.3191, -1.2923, -1.6739],\n",
      "         [ 0.3687,  0.5774,  0.6953,  0.2538,  0.2253],\n",
      "         [ 0.3361,  0.0796,  0.3585, -0.2201, -0.3266]],\n",
      "\n",
      "        [[-0.5576, -0.8647, -0.9830, -2.7937,  0.7684],\n",
      "         [ 0.1062,  0.0739,  0.0764, -0.2849,  0.0678],\n",
      "         [-0.9999, -1.1283, -1.2473, -1.2096,  0.3820]],\n",
      "\n",
      "        [[-4.4653, -0.9278, -1.8166,  0.4703, -0.4155],\n",
      "         [ 2.1580,  0.8101,  0.8357, -0.2124,  0.5654],\n",
      "         [-2.3756, -0.6346, -0.9500,  0.2444, -0.3632]],\n",
      "\n",
      "        [[-0.5491, -1.5430, -1.1647, -0.9483, -2.0773],\n",
      "         [-0.0210, -0.7448, -0.4289, -0.2335, -0.4470],\n",
      "         [ 0.6148, -0.8586, -0.1454,  0.3180,  0.9396]]])\n"
     ]
    }
   ],
   "source": [
    "# batched matrix x batched matrix\n",
    "tensor1 = torch.randn(4, 3, 2)\n",
    "tensor2 = torch.randn(4, 2, 5)\n",
    "res = torch.matmul(tensor1, tensor2)\n",
    "print(res.shape)\n",
    "print(res)"
   ]
  },
  {
   "cell_type": "code",
   "execution_count": 24,
   "metadata": {},
   "outputs": [
    {
     "name": "stdout",
     "output_type": "stream",
     "text": [
      "tensor1:  tensor([[[-0.6228, -0.7892],\n",
      "         [-0.1678,  1.6433],\n",
      "         [ 0.5163,  1.6060]],\n",
      "\n",
      "        [[-0.9815,  0.5361],\n",
      "         [ 0.2337,  1.4083],\n",
      "         [-2.0686,  0.8686]],\n",
      "\n",
      "        [[-0.8032, -1.1209],\n",
      "         [ 0.1956, -0.7815],\n",
      "         [-0.6119,  0.6026]],\n",
      "\n",
      "        [[-0.8362, -0.3333],\n",
      "         [-0.4801, -1.2872],\n",
      "         [ 0.7389,  0.0339]]])\n",
      "tensor2:  tensor([[ 0.2387,  1.2485,  0.0510, -0.0177, -0.7572],\n",
      "        [-1.6010,  0.3874, -0.5764,  0.2020,  1.0856]])\n",
      "torch.Size([4, 3, 5])\n",
      "tensor([[[ 1.1148, -1.0833,  0.4232, -0.1484, -0.3851],\n",
      "         [-2.6710,  0.4270, -0.9558,  0.3349,  1.9110],\n",
      "         [-2.4481,  1.2667, -0.8995,  0.3152,  1.3526]],\n",
      "\n",
      "        [[-1.0925, -1.0177, -0.3591,  0.1256,  1.3251],\n",
      "         [-2.1990,  0.8373, -0.7999,  0.2803,  1.3519],\n",
      "         [-1.8843, -2.2462, -0.6061,  0.2120,  2.5093]],\n",
      "\n",
      "        [[ 1.6029, -1.4370,  0.6052, -0.2122, -0.6086],\n",
      "         [ 1.2979, -0.0585,  0.4605, -0.1613, -0.9965],\n",
      "         [-1.1109, -0.5306, -0.3786,  0.1325,  1.1175]],\n",
      "\n",
      "        [[ 0.3340, -1.1731,  0.1495, -0.0525,  0.2714],\n",
      "         [ 1.9462, -1.0980,  0.7175, -0.2515, -1.0338],\n",
      "         [ 0.1221,  0.9356,  0.0181, -0.0062, -0.5227]]])\n"
     ]
    }
   ],
   "source": [
    "# batched matrix x broadcasted matrix\n",
    "tensor1 = torch.randn(4, 3, 2)\n",
    "print(\"tensor1: \", tensor1)\n",
    "tensor2 = torch.randn(2, 5)\n",
    "print(\"tensor2: \", tensor2)\n",
    "res = torch.matmul(tensor1, tensor2)\n",
    "print(res.shape)\n",
    "print(res)"
   ]
  },
  {
   "cell_type": "code",
   "execution_count": null,
   "metadata": {},
   "outputs": [],
   "source": []
  }
 ],
 "metadata": {
  "kernelspec": {
   "display_name": "Python 3 (ipykernel)",
   "language": "python",
   "name": "python3"
  },
  "language_info": {
   "codemirror_mode": {
    "name": "ipython",
    "version": 3
   },
   "file_extension": ".py",
   "mimetype": "text/x-python",
   "name": "python",
   "nbconvert_exporter": "python",
   "pygments_lexer": "ipython3",
   "version": "3.9.0"
  },
  "vscode": {
   "interpreter": {
    "hash": "cb98b410d1d99309775261dfcb98f74986f7395a7bbeddaee9862a72d75bad59"
   }
  }
 },
 "nbformat": 4,
 "nbformat_minor": 2
}
