{
 "cells": [
  {
   "cell_type": "code",
   "execution_count": 1,
   "id": "603b195a",
   "metadata": {},
   "outputs": [],
   "source": [
    "import torch"
   ]
  },
  {
   "cell_type": "code",
   "execution_count": 2,
   "id": "a0f5aacf",
   "metadata": {},
   "outputs": [
    {
     "data": {
      "text/plain": [
       "tensor([[1, 2, 3],\n",
       "        [4, 5, 6]])"
      ]
     },
     "execution_count": 2,
     "metadata": {},
     "output_type": "execute_result"
    }
   ],
   "source": [
    "my_tensor = torch.tensor([[1,2,3], [4,5,6]])\n",
    "my_tensor"
   ]
  },
  {
   "cell_type": "markdown",
   "id": "40e277ab",
   "metadata": {},
   "source": [
    "### set d-type : float, int : 32 or 64"
   ]
  },
  {
   "cell_type": "code",
   "execution_count": 4,
   "id": "f860296b",
   "metadata": {},
   "outputs": [
    {
     "data": {
      "text/plain": [
       "tensor([[1., 2., 3.],\n",
       "        [4., 5., 6.]])"
      ]
     },
     "execution_count": 4,
     "metadata": {},
     "output_type": "execute_result"
    }
   ],
   "source": [
    "my_tensor = torch.tensor([[1,2,3], [4,5,6]], dtype = torch.float32)   \n",
    "my_tensor "
   ]
  },
  {
   "cell_type": "markdown",
   "id": "cd47325e",
   "metadata": {},
   "source": [
    "### set device on which tensor to run: cuda/gpu/cpu"
   ]
  },
  {
   "cell_type": "code",
   "execution_count": null,
   "id": "3370f461",
   "metadata": {},
   "outputs": [],
   "source": [
    "my_tensor = torch.tensor([[1,2,3], [4,5,6]], dtype = torch.float32, device = 'cpu')    #cpu is default, can have cuda if available\n",
    "my_tensor"
   ]
  },
  {
   "cell_type": "markdown",
   "id": "1d2f8ac1",
   "metadata": {},
   "source": [
    "### can have additional arguments"
   ]
  },
  {
   "cell_type": "code",
   "execution_count": 9,
   "id": "da627562",
   "metadata": {},
   "outputs": [
    {
     "data": {
      "text/plain": [
       "tensor([[1., 2., 3.],\n",
       "        [4., 5., 6.]], requires_grad=True)"
      ]
     },
     "execution_count": 9,
     "metadata": {},
     "output_type": "execute_result"
    }
   ],
   "source": [
    "device = \"cuda\" if torch.cuda.is_available() else \"cpu\"\n",
    "my_tensor = torch.tensor([[1,2,3], [4,5,6]], dtype = torch.float32, \n",
    "                         device = device, requires_grad = True)\n",
    "my_tensor"
   ]
  },
  {
   "cell_type": "code",
   "execution_count": 12,
   "id": "f942eb8e",
   "metadata": {},
   "outputs": [
    {
     "name": "stdout",
     "output_type": "stream",
     "text": [
      "tensor([[1., 2., 3.],\n",
      "        [4., 5., 6.]], requires_grad=True)\n",
      "torch.float32\n",
      "cpu\n",
      "torch.Size([2, 3])\n",
      "True\n"
     ]
    }
   ],
   "source": [
    "# check attributes of tensor\n",
    "print(my_tensor)\n",
    "print(my_tensor.dtype)\n",
    "print(my_tensor.device)\n",
    "print(my_tensor.shape)\n",
    "print(my_tensor.requires_grad)"
   ]
  },
  {
   "cell_type": "markdown",
   "id": "8f4c89d5",
   "metadata": {},
   "source": [
    "### Other Common Initialization methods"
   ]
  },
  {
   "cell_type": "code",
   "execution_count": 14,
   "id": "294fe2ff",
   "metadata": {},
   "outputs": [
    {
     "data": {
      "text/plain": [
       "tensor([[0., 0., 0.],\n",
       "        [0., 0., 0.],\n",
       "        [0., 0., 0.]])"
      ]
     },
     "execution_count": 14,
     "metadata": {},
     "output_type": "execute_result"
    }
   ],
   "source": [
    "x = torch.empty(size = (3,3))\n",
    "x"
   ]
  },
  {
   "cell_type": "code",
   "execution_count": 15,
   "id": "482d348b",
   "metadata": {},
   "outputs": [
    {
     "data": {
      "text/plain": [
       "tensor([[0., 0., 0.],\n",
       "        [0., 0., 0.],\n",
       "        [0., 0., 0.]])"
      ]
     },
     "execution_count": 15,
     "metadata": {},
     "output_type": "execute_result"
    }
   ],
   "source": [
    "x = torch.zeros((3,3))\n",
    "x"
   ]
  },
  {
   "cell_type": "code",
   "execution_count": 17,
   "id": "d6d1c600",
   "metadata": {},
   "outputs": [
    {
     "data": {
      "text/plain": [
       "tensor([[0.8500, 0.4518, 0.9532],\n",
       "        [0.7765, 0.3738, 0.3821],\n",
       "        [0.8783, 0.7389, 0.7894]])"
      ]
     },
     "execution_count": 17,
     "metadata": {},
     "output_type": "execute_result"
    }
   ],
   "source": [
    "x = torch.rand(3,3)\n",
    "x"
   ]
  },
  {
   "cell_type": "code",
   "execution_count": 18,
   "id": "58e8336f",
   "metadata": {},
   "outputs": [
    {
     "data": {
      "text/plain": [
       "tensor([[1., 1., 1.],\n",
       "        [1., 1., 1.],\n",
       "        [1., 1., 1.]])"
      ]
     },
     "execution_count": 18,
     "metadata": {},
     "output_type": "execute_result"
    }
   ],
   "source": [
    "x = torch.ones(3,3)\n",
    "x"
   ]
  },
  {
   "cell_type": "code",
   "execution_count": 19,
   "id": "c86531b5",
   "metadata": {},
   "outputs": [
    {
     "data": {
      "text/plain": [
       "tensor([[1., 0., 0., 0., 0.],\n",
       "        [0., 1., 0., 0., 0.],\n",
       "        [0., 0., 1., 0., 0.],\n",
       "        [0., 0., 0., 1., 0.],\n",
       "        [0., 0., 0., 0., 1.]])"
      ]
     },
     "execution_count": 19,
     "metadata": {},
     "output_type": "execute_result"
    }
   ],
   "source": [
    "x = torch.eye(5,5)   # Identity matrix\n",
    "x"
   ]
  },
  {
   "cell_type": "code",
   "execution_count": 21,
   "id": "736b8206",
   "metadata": {},
   "outputs": [
    {
     "data": {
      "text/plain": [
       "tensor([0, 1, 2, 3, 4])"
      ]
     },
     "execution_count": 21,
     "metadata": {},
     "output_type": "execute_result"
    }
   ],
   "source": [
    "x = torch.arange(start = 0, end = 5, step =1)    # Creating list or array in range\n",
    "x"
   ]
  },
  {
   "cell_type": "code",
   "execution_count": 22,
   "id": "f64d503e",
   "metadata": {},
   "outputs": [
    {
     "data": {
      "text/plain": [
       "tensor([0.1000, 0.2000, 0.3000, 0.4000, 0.5000, 0.6000, 0.7000, 0.8000, 0.9000,\n",
       "        1.0000])"
      ]
     },
     "execution_count": 22,
     "metadata": {},
     "output_type": "execute_result"
    }
   ],
   "source": [
    "x = torch.linspace(start = 0.1, end = 1, steps = 10)\n",
    "x"
   ]
  },
  {
   "cell_type": "code",
   "execution_count": 23,
   "id": "d8099c5a",
   "metadata": {},
   "outputs": [
    {
     "data": {
      "text/plain": [
       "tensor([[-0.0337, -0.5479, -0.8162,  0.2511,  0.2808]])"
      ]
     },
     "execution_count": 23,
     "metadata": {},
     "output_type": "execute_result"
    }
   ],
   "source": [
    "x = torch.empty(size=(1,5)).normal_(mean=0, std=1)  \n",
    "#this will initialze the data of size 1*5, those values are normally distributed with mean of 0 and standard deviation of 1\n",
    "x"
   ]
  },
  {
   "cell_type": "code",
   "execution_count": 24,
   "id": "fd533fad",
   "metadata": {},
   "outputs": [
    {
     "data": {
      "text/plain": [
       "tensor([[0.7194, 0.4068, 0.7169, 0.8511, 0.9609]])"
      ]
     },
     "execution_count": 24,
     "metadata": {},
     "output_type": "execute_result"
    }
   ],
   "source": [
    "#For uniform distribution\n",
    "x = torch.empty(size=(1,5)).uniform_(0,1)    #here specifying lower and upper of uniform distribution\n",
    "x"
   ]
  },
  {
   "cell_type": "code",
   "execution_count": 25,
   "id": "93e5f47d",
   "metadata": {},
   "outputs": [
    {
     "data": {
      "text/plain": [
       "tensor([[1., 0., 0.],\n",
       "        [0., 1., 0.],\n",
       "        [0., 0., 1.]])"
      ]
     },
     "execution_count": 25,
     "metadata": {},
     "output_type": "execute_result"
    }
   ],
   "source": [
    "x = torch.diag(torch.ones(3))    #Diagonal / Identity matrix\n",
    "x"
   ]
  },
  {
   "cell_type": "markdown",
   "id": "6823d1fb",
   "metadata": {},
   "source": [
    "### How to initialize and convert tensors to other types (int,  float, double)"
   ]
  },
  {
   "cell_type": "code",
   "execution_count": 26,
   "id": "ea685822",
   "metadata": {},
   "outputs": [
    {
     "data": {
      "text/plain": [
       "tensor([0, 1, 2, 3])"
      ]
     },
     "execution_count": 26,
     "metadata": {},
     "output_type": "execute_result"
    }
   ],
   "source": [
    "tensor = torch.arange(4)\n",
    "tensor"
   ]
  },
  {
   "cell_type": "code",
   "execution_count": 32,
   "id": "c634433e",
   "metadata": {},
   "outputs": [
    {
     "name": "stdout",
     "output_type": "stream",
     "text": [
      "tensor([False,  True,  True,  True])\n",
      "tensor([0, 1, 2, 3], dtype=torch.int16)\n",
      "tensor([0, 1, 2, 3])\n",
      "tensor([0., 1., 2., 3.], dtype=torch.float16)\n",
      "tensor([0., 1., 2., 3.])\n",
      "tensor([0., 1., 2., 3.], dtype=torch.float64)\n"
     ]
    }
   ],
   "source": [
    "print(tensor.bool())\n",
    "print(tensor.short())\n",
    "print(tensor.long())\n",
    "print(tensor.half())\n",
    "print(tensor.float())\n",
    "print(tensor.double())"
   ]
  },
  {
   "cell_type": "markdown",
   "id": "35b6bc14",
   "metadata": {},
   "source": [
    "### Array to Tensor Conversion and vice versa"
   ]
  },
  {
   "cell_type": "code",
   "execution_count": 33,
   "id": "7d3df155",
   "metadata": {},
   "outputs": [],
   "source": [
    "import numpy as np"
   ]
  },
  {
   "cell_type": "code",
   "execution_count": 41,
   "id": "a41d0c83",
   "metadata": {},
   "outputs": [
    {
     "data": {
      "text/plain": [
       "array([[0., 0., 0., 0., 0.],\n",
       "       [0., 0., 0., 0., 0.],\n",
       "       [0., 0., 0., 0., 0.],\n",
       "       [0., 0., 0., 0., 0.],\n",
       "       [0., 0., 0., 0., 0.]])"
      ]
     },
     "execution_count": 41,
     "metadata": {},
     "output_type": "execute_result"
    }
   ],
   "source": [
    "np_array = np.zeros((5,5))\n",
    "np_array"
   ]
  },
  {
   "cell_type": "code",
   "execution_count": 36,
   "id": "651307c7",
   "metadata": {},
   "outputs": [
    {
     "data": {
      "text/plain": [
       "tensor([[0., 0., 0., 0., 0.],\n",
       "        [0., 0., 0., 0., 0.],\n",
       "        [0., 0., 0., 0., 0.],\n",
       "        [0., 0., 0., 0., 0.],\n",
       "        [0., 0., 0., 0., 0.]], dtype=torch.float64)"
      ]
     },
     "execution_count": 36,
     "metadata": {},
     "output_type": "execute_result"
    }
   ],
   "source": [
    "tensor = torch.from_numpy(np_array)\n",
    "tensor"
   ]
  },
  {
   "cell_type": "code",
   "execution_count": 38,
   "id": "2ff4add5",
   "metadata": {},
   "outputs": [
    {
     "data": {
      "text/plain": [
       "array([[0., 0., 0., 0., 0.],\n",
       "       [0., 0., 0., 0., 0.],\n",
       "       [0., 0., 0., 0., 0.],\n",
       "       [0., 0., 0., 0., 0.],\n",
       "       [0., 0., 0., 0., 0.]])"
      ]
     },
     "execution_count": 38,
     "metadata": {},
     "output_type": "execute_result"
    }
   ],
   "source": [
    "np_array_back = tensor.numpy()\n",
    "np_array_back"
   ]
  },
  {
   "cell_type": "markdown",
   "id": "0b59ca6a",
   "metadata": {},
   "source": [
    "### Tensor Math & Comparison Operations"
   ]
  },
  {
   "cell_type": "code",
   "execution_count": 42,
   "id": "74403fbf",
   "metadata": {},
   "outputs": [],
   "source": [
    "x = torch.tensor([1,2,3])\n",
    "y = torch.tensor([9,8,7])"
   ]
  },
  {
   "cell_type": "code",
   "execution_count": 43,
   "id": "a012f2ac",
   "metadata": {},
   "outputs": [
    {
     "data": {
      "text/plain": [
       "tensor([10., 10., 10.])"
      ]
     },
     "execution_count": 43,
     "metadata": {},
     "output_type": "execute_result"
    }
   ],
   "source": [
    "# Addition\n",
    "z1 = torch.empty(3)\n",
    "torch.add(x,y, out = z1)"
   ]
  },
  {
   "cell_type": "code",
   "execution_count": 45,
   "id": "fecb8430",
   "metadata": {},
   "outputs": [
    {
     "data": {
      "text/plain": [
       "tensor([10, 10, 10])"
      ]
     },
     "execution_count": 45,
     "metadata": {},
     "output_type": "execute_result"
    }
   ],
   "source": [
    "#OR\n",
    "z2 = torch.add(x,y)\n",
    "z2 = x + y\n",
    "z2"
   ]
  },
  {
   "cell_type": "code",
   "execution_count": 46,
   "id": "7036ae86",
   "metadata": {},
   "outputs": [
    {
     "data": {
      "text/plain": [
       "tensor([-8, -6, -4])"
      ]
     },
     "execution_count": 46,
     "metadata": {},
     "output_type": "execute_result"
    }
   ],
   "source": [
    "#Subtraction\n",
    "z = x - y\n",
    "z"
   ]
  },
  {
   "cell_type": "code",
   "execution_count": 47,
   "id": "316fc4bd",
   "metadata": {},
   "outputs": [
    {
     "data": {
      "text/plain": [
       "tensor([0.1111, 0.2500, 0.4286])"
      ]
     },
     "execution_count": 47,
     "metadata": {},
     "output_type": "execute_result"
    }
   ],
   "source": [
    "#Division\n",
    "z = torch.true_divide(x,y)\n",
    "z"
   ]
  },
  {
   "cell_type": "code",
   "execution_count": 50,
   "id": "c2c863a4",
   "metadata": {},
   "outputs": [
    {
     "data": {
      "text/plain": [
       "tensor([2., 4., 6.])"
      ]
     },
     "execution_count": 50,
     "metadata": {},
     "output_type": "execute_result"
    }
   ],
   "source": [
    "## In place operations\n",
    "t = torch.zeros(3)\n",
    "t.add_(x)\n",
    "\n",
    "# OR\n",
    "#t += x\n",
    "#t"
   ]
  },
  {
   "cell_type": "code",
   "execution_count": 52,
   "id": "2360fb91",
   "metadata": {},
   "outputs": [
    {
     "data": {
      "text/plain": [
       "tensor([1, 4, 9])"
      ]
     },
     "execution_count": 52,
     "metadata": {},
     "output_type": "execute_result"
    }
   ],
   "source": [
    "##Exponetiation\n",
    "z = x.pow(2)\n",
    "z\n",
    "\n",
    "#OR\n",
    "z = x ** 2\n",
    "z"
   ]
  },
  {
   "cell_type": "code",
   "execution_count": 54,
   "id": "186b07bd",
   "metadata": {},
   "outputs": [
    {
     "data": {
      "text/plain": [
       "tensor([False, False, False])"
      ]
     },
     "execution_count": 54,
     "metadata": {},
     "output_type": "execute_result"
    }
   ],
   "source": [
    "## Simple comparison\n",
    "z = x > 0\n",
    "z\n",
    "z = x < 0\n",
    "z"
   ]
  },
  {
   "cell_type": "code",
   "execution_count": 57,
   "id": "654dc0fa",
   "metadata": {},
   "outputs": [
    {
     "data": {
      "text/plain": [
       "tensor([[0.6936, 1.9989, 0.7322],\n",
       "        [0.5080, 1.8885, 0.6080]])"
      ]
     },
     "execution_count": 57,
     "metadata": {},
     "output_type": "execute_result"
    }
   ],
   "source": [
    "## Matrix Multiplication\n",
    "x1 = torch.rand((2,5))\n",
    "x2 = torch.rand((5,3))\n",
    "\n",
    "x3 = torch.mm(x1, x2)      # 2*5  *  5*3 == 2*3 output\n",
    "x3\n",
    "\n",
    "#OR\n",
    "x3 = x1.mm(x2)\n",
    "x3"
   ]
  },
  {
   "cell_type": "code",
   "execution_count": 62,
   "id": "c30b0faa",
   "metadata": {},
   "outputs": [
    {
     "name": "stdout",
     "output_type": "stream",
     "text": [
      "tensor([[0.1447, 0.1461, 0.9445, 0.0434, 0.2359],\n",
      "        [0.9543, 0.1525, 0.7178, 0.3530, 0.1096],\n",
      "        [0.2943, 0.0555, 0.6920, 0.9497, 0.5726],\n",
      "        [0.0026, 0.9951, 0.5287, 0.9663, 0.9453],\n",
      "        [0.4821, 0.6975, 0.5233, 0.0351, 0.8974]])\n"
     ]
    },
    {
     "data": {
      "text/plain": [
       "tensor([[1.0855, 1.7734, 2.4330, 2.1211, 2.4672],\n",
       "        [1.7222, 2.1466, 3.3434, 3.0319, 3.2356],\n",
       "        [2.8350, 3.3249, 4.5272, 3.6881, 4.4373],\n",
       "        [3.6138, 3.9473, 6.3160, 4.5228, 5.4342],\n",
       "        [2.1927, 2.1777, 4.2547, 2.9273, 3.4176]])"
      ]
     },
     "execution_count": 62,
     "metadata": {},
     "output_type": "execute_result"
    }
   ],
   "source": [
    "## MAtrix Exponentiation\n",
    "matrix_exp = torch.rand(5,5)\n",
    "print(matrix_exp)\n",
    "matrix_exp.matrix_power(3)"
   ]
  },
  {
   "cell_type": "code",
   "execution_count": 63,
   "id": "6369232b",
   "metadata": {},
   "outputs": [
    {
     "data": {
      "text/plain": [
       "tensor([ 9, 16, 21])"
      ]
     },
     "execution_count": 63,
     "metadata": {},
     "output_type": "execute_result"
    }
   ],
   "source": [
    "## element wise multiplication\n",
    "z = x * y\n",
    "z"
   ]
  },
  {
   "cell_type": "code",
   "execution_count": 64,
   "id": "e1f6ec54",
   "metadata": {},
   "outputs": [
    {
     "data": {
      "text/plain": [
       "tensor(46)"
      ]
     },
     "execution_count": 64,
     "metadata": {},
     "output_type": "execute_result"
    }
   ],
   "source": [
    "## dot product\n",
    "z = torch.dot(x,y)\n",
    "z"
   ]
  },
  {
   "cell_type": "code",
   "execution_count": 69,
   "id": "97cedeac",
   "metadata": {},
   "outputs": [
    {
     "name": "stdout",
     "output_type": "stream",
     "text": [
      "torch.Size([32, 10, 20])\n"
     ]
    },
    {
     "data": {
      "text/plain": [
       "tensor([[[0.7534, 0.2992, 0.7247,  ..., 0.7294, 0.5020, 0.8619],\n",
       "         [0.3052, 0.6099, 0.4637,  ..., 0.4866, 0.1303, 0.5059],\n",
       "         [0.6005, 0.5723, 0.4249,  ..., 0.3213, 0.6917, 0.9548],\n",
       "         ...,\n",
       "         [0.1664, 0.1037, 0.5333,  ..., 0.0016, 0.5641, 0.2641],\n",
       "         [0.0145, 0.9254, 0.6716,  ..., 0.8198, 0.4230, 0.8215],\n",
       "         [0.2592, 0.3769, 0.1593,  ..., 0.4423, 0.0628, 0.6258]],\n",
       "\n",
       "        [[0.2688, 0.7028, 0.0769,  ..., 0.4116, 0.7722, 0.6443],\n",
       "         [0.4010, 0.2357, 0.9200,  ..., 0.0039, 0.9274, 0.4588],\n",
       "         [0.9494, 0.9021, 0.5990,  ..., 0.9016, 0.3443, 0.8555],\n",
       "         ...,\n",
       "         [0.4785, 0.8273, 0.1163,  ..., 0.3213, 0.7960, 0.5909],\n",
       "         [0.9625, 0.8659, 0.7080,  ..., 0.4210, 0.5006, 0.8448],\n",
       "         [0.6054, 0.9864, 0.2880,  ..., 0.2778, 0.2315, 0.1516]],\n",
       "\n",
       "        [[0.9318, 0.6888, 0.1842,  ..., 0.1458, 0.1543, 0.5499],\n",
       "         [0.4427, 0.6000, 0.5014,  ..., 0.7568, 0.1265, 0.2681],\n",
       "         [0.6341, 0.0520, 0.1481,  ..., 0.9131, 0.4110, 0.2369],\n",
       "         ...,\n",
       "         [0.8211, 0.0218, 0.2364,  ..., 0.8560, 0.3999, 0.4928],\n",
       "         [0.3558, 0.1477, 0.7620,  ..., 0.0210, 0.6686, 0.6501],\n",
       "         [0.6363, 0.0129, 0.2080,  ..., 0.7095, 0.7425, 0.1027]],\n",
       "\n",
       "        ...,\n",
       "\n",
       "        [[0.7458, 0.5521, 0.5249,  ..., 0.9548, 0.7305, 0.1180],\n",
       "         [0.7656, 0.3616, 0.5845,  ..., 0.0181, 0.0672, 0.6992],\n",
       "         [0.5560, 0.0705, 0.7677,  ..., 0.7112, 0.8976, 0.1148],\n",
       "         ...,\n",
       "         [0.5197, 0.1487, 0.2429,  ..., 0.1889, 0.5760, 0.8170],\n",
       "         [0.5331, 0.1879, 0.5193,  ..., 0.0663, 0.8085, 0.3835],\n",
       "         [0.6360, 0.7227, 0.1742,  ..., 0.5066, 0.8596, 0.3479]],\n",
       "\n",
       "        [[0.6007, 0.7543, 0.5898,  ..., 0.6270, 0.0196, 0.5850],\n",
       "         [0.0042, 0.1150, 0.9657,  ..., 0.8231, 0.5876, 0.4330],\n",
       "         [0.9669, 0.4041, 0.7072,  ..., 0.0169, 0.4280, 0.2213],\n",
       "         ...,\n",
       "         [0.5908, 0.2246, 0.9657,  ..., 0.6959, 0.9397, 0.8824],\n",
       "         [0.7080, 0.4216, 0.6596,  ..., 0.2463, 0.1571, 0.4291],\n",
       "         [0.8990, 0.6219, 0.9048,  ..., 0.5679, 0.1044, 0.2570]],\n",
       "\n",
       "        [[0.3071, 0.4724, 0.6189,  ..., 0.1036, 0.8807, 0.6605],\n",
       "         [0.1032, 0.5457, 0.2101,  ..., 0.4066, 0.7841, 0.8990],\n",
       "         [0.6544, 0.9572, 0.2109,  ..., 0.1152, 0.7266, 0.7954],\n",
       "         ...,\n",
       "         [0.0777, 0.7032, 0.6778,  ..., 0.3834, 0.5896, 0.6760],\n",
       "         [0.0580, 0.3438, 0.9133,  ..., 0.7021, 0.3795, 0.4132],\n",
       "         [0.2318, 0.3201, 0.1400,  ..., 0.1622, 0.1379, 0.9453]]])"
      ]
     },
     "execution_count": 69,
     "metadata": {},
     "output_type": "execute_result"
    }
   ],
   "source": [
    "## Batch Matrix Multiplication(bmm)\n",
    "batch = 32\n",
    "n = 10\n",
    "m = 20\n",
    "p = 30\n",
    "\n",
    "tensor1 = torch.rand((batch, n, m))     # for 2 dimensional, we can do normal mm , here its 3D\n",
    "print(tensor1.shape)\n",
    "tensor1"
   ]
  },
  {
   "cell_type": "code",
   "execution_count": 71,
   "id": "fdbd0b7d",
   "metadata": {},
   "outputs": [
    {
     "name": "stdout",
     "output_type": "stream",
     "text": [
      "torch.Size([32, 20, 30])\n"
     ]
    },
    {
     "data": {
      "text/plain": [
       "tensor([[[0.4830, 0.1019, 0.3422,  ..., 0.6492, 0.3191, 0.7804],\n",
       "         [0.1753, 0.6931, 0.3977,  ..., 0.8794, 0.6572, 0.5111],\n",
       "         [0.4146, 0.4786, 0.4168,  ..., 0.8883, 0.3178, 0.6436],\n",
       "         ...,\n",
       "         [0.6853, 0.7649, 0.3734,  ..., 0.9047, 0.2575, 0.4791],\n",
       "         [0.1243, 0.1455, 0.9276,  ..., 0.9486, 0.6564, 0.3687],\n",
       "         [0.0838, 0.3151, 0.4448,  ..., 0.7346, 0.7872, 0.0668]],\n",
       "\n",
       "        [[0.9710, 0.2441, 0.7558,  ..., 0.9496, 0.3586, 0.1638],\n",
       "         [0.4552, 0.8776, 0.2353,  ..., 0.0361, 0.2081, 0.0145],\n",
       "         [0.8788, 0.8517, 0.2486,  ..., 0.3508, 0.7568, 0.2790],\n",
       "         ...,\n",
       "         [0.0672, 0.3536, 0.6378,  ..., 0.2226, 0.0269, 0.6559],\n",
       "         [0.7044, 0.5598, 0.7632,  ..., 0.6970, 0.8378, 0.7008],\n",
       "         [0.6606, 0.2737, 0.5996,  ..., 0.1494, 0.9514, 0.9549]],\n",
       "\n",
       "        [[0.9493, 0.1471, 0.5958,  ..., 0.7844, 0.1623, 0.6623],\n",
       "         [0.2110, 0.4863, 0.6069,  ..., 0.1132, 0.9456, 0.2943],\n",
       "         [0.7193, 0.9187, 0.8934,  ..., 0.0174, 0.9229, 0.4110],\n",
       "         ...,\n",
       "         [0.0345, 0.4575, 0.5220,  ..., 0.2806, 0.2122, 0.1156],\n",
       "         [0.5945, 0.3869, 0.8229,  ..., 0.8407, 0.6707, 0.0892],\n",
       "         [0.1423, 0.0789, 0.3617,  ..., 0.3740, 0.6636, 0.4414]],\n",
       "\n",
       "        ...,\n",
       "\n",
       "        [[0.9507, 0.2394, 0.0939,  ..., 0.7593, 0.1251, 0.2212],\n",
       "         [0.0273, 0.5841, 0.6158,  ..., 0.7723, 0.6581, 0.7567],\n",
       "         [0.0352, 0.6883, 0.4651,  ..., 0.0087, 0.1872, 0.0198],\n",
       "         ...,\n",
       "         [0.5157, 0.9990, 0.2707,  ..., 0.2090, 0.6543, 0.5036],\n",
       "         [0.4130, 0.0846, 0.0873,  ..., 0.9059, 0.1982, 0.6253],\n",
       "         [0.1077, 0.1665, 0.4325,  ..., 0.8218, 0.2481, 0.2425]],\n",
       "\n",
       "        [[0.1930, 0.0864, 0.3963,  ..., 0.6657, 0.9136, 0.7138],\n",
       "         [0.4028, 0.6970, 0.4857,  ..., 0.0386, 0.2217, 0.6570],\n",
       "         [0.7261, 0.4318, 0.6794,  ..., 0.4246, 0.6156, 0.4833],\n",
       "         ...,\n",
       "         [0.0302, 0.3522, 0.2942,  ..., 0.9486, 0.7201, 0.0160],\n",
       "         [0.5650, 0.7759, 0.4898,  ..., 0.9305, 0.4223, 0.3275],\n",
       "         [0.3976, 0.2165, 0.3239,  ..., 0.5153, 0.9721, 0.3833]],\n",
       "\n",
       "        [[0.9327, 0.4313, 0.9527,  ..., 0.5729, 0.5893, 0.1274],\n",
       "         [0.0619, 0.2833, 0.6780,  ..., 0.8348, 0.9387, 0.1675],\n",
       "         [0.8064, 0.5821, 0.4495,  ..., 0.6262, 0.7045, 0.9764],\n",
       "         ...,\n",
       "         [0.5540, 0.0945, 0.8078,  ..., 0.0239, 0.2281, 0.2579],\n",
       "         [0.8924, 0.2914, 0.3803,  ..., 0.6484, 0.8313, 0.7286],\n",
       "         [0.6980, 0.7982, 0.2066,  ..., 0.9071, 0.0785, 0.7986]]])"
      ]
     },
     "execution_count": 71,
     "metadata": {},
     "output_type": "execute_result"
    }
   ],
   "source": [
    "tensor2 = torch.rand((batch, m, p))\n",
    "print(tensor2.shape)\n",
    "tensor2"
   ]
  },
  {
   "cell_type": "code",
   "execution_count": 74,
   "id": "9633d524",
   "metadata": {},
   "outputs": [
    {
     "name": "stdout",
     "output_type": "stream",
     "text": [
      "torch.Size([32, 10, 30])\n"
     ]
    },
    {
     "data": {
      "text/plain": [
       "tensor([[[5.0275, 5.5913, 5.0034,  ..., 5.9040, 5.9302, 6.4760],\n",
       "         [4.6534, 6.1781, 5.0402,  ..., 4.8914, 4.7357, 5.9697],\n",
       "         [3.4789, 4.9157, 3.8970,  ..., 4.9178, 4.9282, 4.9073],\n",
       "         ...,\n",
       "         [3.2777, 3.4235, 4.1918,  ..., 3.6519, 3.5850, 4.3287],\n",
       "         [5.3072, 6.9218, 5.9643,  ..., 6.6236, 6.5446, 7.1023],\n",
       "         [4.5977, 6.4635, 4.6398,  ..., 5.4170, 5.7692, 6.1579]],\n",
       "\n",
       "        [[5.1503, 5.5038, 4.6471,  ..., 5.0456, 4.8852, 4.1915],\n",
       "         [6.1639, 5.5813, 5.0572,  ..., 5.2987, 5.2640, 4.1689],\n",
       "         [6.3369, 7.0312, 6.1478,  ..., 6.0822, 6.3441, 5.1830],\n",
       "         ...,\n",
       "         [4.6979, 4.9532, 4.0248,  ..., 4.1231, 4.2343, 3.4138],\n",
       "         [6.0472, 5.4364, 5.2844,  ..., 6.2996, 5.3798, 4.7146],\n",
       "         [3.4463, 3.5853, 3.3366,  ..., 3.2722, 3.5641, 2.4342]],\n",
       "\n",
       "        [[6.0686, 4.9056, 4.7619,  ..., 5.0771, 5.6501, 6.1401],\n",
       "         [5.6818, 5.1426, 5.1007,  ..., 4.6474, 5.5193, 5.4459],\n",
       "         [6.0012, 4.7447, 4.5983,  ..., 5.5633, 4.8091, 5.4212],\n",
       "         ...,\n",
       "         [5.8664, 4.5936, 4.7261,  ..., 5.6827, 4.8684, 5.4241],\n",
       "         [5.3893, 4.9382, 4.4938,  ..., 4.9254, 5.7722, 5.1648],\n",
       "         [5.7344, 5.0562, 4.7844,  ..., 5.5518, 4.3635, 4.9655]],\n",
       "\n",
       "        ...,\n",
       "\n",
       "        [[5.8865, 5.5022, 4.1531,  ..., 6.4270, 5.6454, 6.1852],\n",
       "         [5.2170, 4.7808, 3.8514,  ..., 5.8279, 4.2249, 5.1694],\n",
       "         [4.6295, 4.6292, 3.0903,  ..., 4.5807, 3.6215, 4.5656],\n",
       "         ...,\n",
       "         [5.5161, 4.4229, 3.5849,  ..., 5.6160, 4.3593, 5.2244],\n",
       "         [4.0253, 2.7196, 2.3099,  ..., 3.8976, 2.7646, 3.9624],\n",
       "         [4.4822, 3.5351, 3.6271,  ..., 5.4604, 3.7055, 5.0283]],\n",
       "\n",
       "        [[5.0626, 4.4178, 6.0904,  ..., 5.6628, 5.7182, 5.6700],\n",
       "         [5.0974, 4.6981, 5.8336,  ..., 5.9137, 6.1388, 5.9386],\n",
       "         [4.4539, 3.3399, 4.0613,  ..., 5.7035, 4.6793, 4.6454],\n",
       "         ...,\n",
       "         [4.5944, 4.0113, 5.5967,  ..., 5.8404, 5.4863, 5.4412],\n",
       "         [2.9868, 2.5591, 3.9193,  ..., 3.6220, 4.1865, 3.9025],\n",
       "         [4.7055, 4.4542, 6.0112,  ..., 5.3822, 6.6002, 5.6323]],\n",
       "\n",
       "        [[5.2100, 5.3875, 4.4238,  ..., 4.6740, 3.7025, 5.7478],\n",
       "         [6.1987, 5.8896, 5.9666,  ..., 5.5072, 4.6832, 6.8807],\n",
       "         [5.6227, 5.6988, 5.6773,  ..., 5.1000, 5.0090, 5.9162],\n",
       "         ...,\n",
       "         [6.1788, 6.5167, 5.5285,  ..., 5.4035, 5.4281, 7.3948],\n",
       "         [5.5191, 5.5707, 5.3459,  ..., 4.5406, 4.1713, 6.4845],\n",
       "         [6.0646, 6.6604, 5.2005,  ..., 5.2144, 4.1478, 6.0660]]])"
      ]
     },
     "execution_count": 74,
     "metadata": {},
     "output_type": "execute_result"
    }
   ],
   "source": [
    "out_bmm = torch.bmm(tensor1,tensor2)\n",
    "print(out_bmm.shape)\n",
    "out_bmm"
   ]
  },
  {
   "cell_type": "code",
   "execution_count": 75,
   "id": "3cfba141",
   "metadata": {},
   "outputs": [
    {
     "name": "stdout",
     "output_type": "stream",
     "text": [
      "tensor([[0.2221, 0.5185, 0.6679, 0.8497, 0.8395],\n",
      "        [0.3690, 0.5183, 0.7987, 0.5676, 0.6073],\n",
      "        [0.2562, 0.9713, 0.1964, 0.9415, 0.5876],\n",
      "        [0.1959, 0.5563, 0.3718, 0.6963, 0.9644],\n",
      "        [0.1196, 0.7275, 0.4181, 0.4122, 0.2153]])\n",
      "tensor([[0.0343, 0.7335, 0.3389, 0.9487, 0.8788]])\n"
     ]
    },
    {
     "data": {
      "text/plain": [
       "tensor([[ 0.1878, -0.2150,  0.3291, -0.0990, -0.0393],\n",
       "        [ 0.3346, -0.2152,  0.4599, -0.3812, -0.2715],\n",
       "        [ 0.2218,  0.2378, -0.1424, -0.0073, -0.2912],\n",
       "        [ 0.1616, -0.1771,  0.0329, -0.2524,  0.0855],\n",
       "        [ 0.0853, -0.0059,  0.0792, -0.5365, -0.6635]])"
      ]
     },
     "execution_count": 75,
     "metadata": {},
     "output_type": "execute_result"
    }
   ],
   "source": [
    "## Examples of Broadcasting\n",
    "#i.e, expanding dimensions of matrix to match with other matrix dimension\n",
    "x1 = torch.rand((5,5))\n",
    "x2 = torch.rand((1,5))\n",
    "\n",
    "print(x1)\n",
    "print(x2)\n",
    "z = x1 - x2      # x2 vector of shape 1*5, is subtracted from each row of x1\n",
    "z"
   ]
  },
  {
   "cell_type": "code",
   "execution_count": 77,
   "id": "c7378007",
   "metadata": {},
   "outputs": [
    {
     "data": {
      "text/plain": [
       "tensor([[0.9496, 0.6177, 0.8722, 0.8568, 0.8575],\n",
       "        [0.9663, 0.6175, 0.9267, 0.5843, 0.6451],\n",
       "        [0.9543, 0.9789, 0.5761, 0.9444, 0.6267],\n",
       "        [0.9456, 0.6505, 0.7151, 0.7093, 0.9686],\n",
       "        [0.9297, 0.7919, 0.7442, 0.4314, 0.2593]])"
      ]
     },
     "execution_count": 77,
     "metadata": {},
     "output_type": "execute_result"
    }
   ],
   "source": [
    "z = x1 ** x2\n",
    "z"
   ]
  },
  {
   "cell_type": "markdown",
   "id": "c80d5bd4",
   "metadata": {},
   "source": []
  },
  {
   "cell_type": "code",
   "execution_count": 86,
   "id": "2ec0bc2f",
   "metadata": {},
   "outputs": [
    {
     "name": "stdout",
     "output_type": "stream",
     "text": [
      "sum_x tensor(6)\n",
      "absolute value tensor([1, 2, 3])\n",
      "mean  tensor(2.)\n",
      "check equal tensor([False, False, False])\n"
     ]
    }
   ],
   "source": [
    "## Other tensor operstions\n",
    "sum_x = torch.sum(x, dim=0)\n",
    "print('sum_x',sum_x)\n",
    "values, indices = torch.max(x, dim=0)   #or : x.max(dim=0) instead of torch.max and other operations with torch.\n",
    "values, indices = torch.min(x, dim=0)\n",
    "abs_x = torch.abs(x)\n",
    "print('absolute value',abs_x)\n",
    "z = torch.argmax(x, dim=0)\n",
    "z = torch.argmin(x, dim=0)\n",
    "mean_x = torch.mean(x.float(), dim=0)   # For mean, we need float values\n",
    "print('mean ', mean_x)\n",
    "z = torch.eq(x,y)\n",
    "print('check equal', z)"
   ]
  },
  {
   "cell_type": "code",
   "execution_count": 88,
   "id": "33e79fc1",
   "metadata": {},
   "outputs": [
    {
     "name": "stdout",
     "output_type": "stream",
     "text": [
      "sorted y tensor([7, 8, 9])\n"
     ]
    }
   ],
   "source": [
    "sorted_y, indices = torch.sort(y, dim=0, descending = False)\n",
    "print('sorted y', sorted_y)"
   ]
  },
  {
   "cell_type": "code",
   "execution_count": 90,
   "id": "67b3fa9e",
   "metadata": {},
   "outputs": [
    {
     "data": {
      "text/plain": [
       "tensor([1, 2, 3])"
      ]
     },
     "execution_count": 90,
     "metadata": {},
     "output_type": "execute_result"
    }
   ],
   "source": [
    "z = torch.clamp(x, min=0, max=10)   # all elements of x less than 0 are set to 0 and any value greater than 10 set to 10\n",
    "#Its exactly like a ReLU function\n",
    "z"
   ]
  },
  {
   "cell_type": "code",
   "execution_count": 91,
   "id": "8c2b0f87",
   "metadata": {},
   "outputs": [
    {
     "data": {
      "text/plain": [
       "tensor(False)"
      ]
     },
     "execution_count": 91,
     "metadata": {},
     "output_type": "execute_result"
    }
   ],
   "source": [
    "x = torch.tensor([1,0,1,1,1], dtype = torch.bool)\n",
    "#check any of these values are true\n",
    "z = torch.any(x)\n",
    "z = torch.all(x)    # All values need to 1, not a single value should be false\n",
    "z"
   ]
  },
  {
   "cell_type": "markdown",
   "id": "4d48bb58",
   "metadata": {},
   "source": [
    "### Tensor Indexing"
   ]
  },
  {
   "cell_type": "code",
   "execution_count": 105,
   "id": "11059951",
   "metadata": {},
   "outputs": [
    {
     "name": "stdout",
     "output_type": "stream",
     "text": [
      "tensor([0.5114, 0.9230, 0.2733, 0.7984, 0.8376, 0.4497, 0.9692, 0.7962, 0.1751,\n",
      "        0.2785, 0.3533, 0.8933, 0.0768, 0.3012, 0.0996, 0.2850, 0.6582, 0.5518,\n",
      "        0.6256, 0.8822, 0.3416, 0.8392, 0.8233, 0.7597, 0.0475])\n",
      "torch.Size([10, 25])\n",
      "shape of x[0] torch.Size([25])\n",
      "first feature of all inputs tensor([0.5114, 0.0922, 0.8864, 0.8406, 0.7672, 0.4005, 0.5041, 0.5311, 0.2296,\n",
      "        0.3802])\n",
      "tensor([0.5114, 0.0922, 0.8864, 0.8406, 0.7672, 0.4005, 0.5041, 0.5311, 0.2296,\n",
      "        0.3802])\n"
     ]
    }
   ],
   "source": [
    "batch_size = 10\n",
    "features = 25\n",
    "x = torch.rand((batch_size, features))   #Initialize some random input\n",
    "print(x[0])\n",
    "print(x.size())\n",
    "print('shape of x[0]', x[0].shape)    # x[0, :]\n",
    "print('first feature of all inputs', x[:, 0])\n",
    "print(x[:, 0])\n"
   ]
  },
  {
   "cell_type": "code",
   "execution_count": 106,
   "id": "2d9118c5",
   "metadata": {},
   "outputs": [
    {
     "name": "stdout",
     "output_type": "stream",
     "text": [
      "what is x:  tensor([[0.5114, 0.9230, 0.2733, 0.7984, 0.8376, 0.4497, 0.9692, 0.7962, 0.1751,\n",
      "         0.2785, 0.3533, 0.8933, 0.0768, 0.3012, 0.0996, 0.2850, 0.6582, 0.5518,\n",
      "         0.6256, 0.8822, 0.3416, 0.8392, 0.8233, 0.7597, 0.0475],\n",
      "        [0.0922, 0.9253, 0.6790, 0.9682, 0.7550, 0.0486, 0.5873, 0.6298, 0.8087,\n",
      "         0.9305, 0.1607, 0.0230, 0.2951, 0.9333, 0.7299, 0.4365, 0.9324, 0.6584,\n",
      "         0.1186, 0.5617, 0.4498, 0.2450, 0.0276, 0.6454, 0.9139],\n",
      "        [0.8864, 0.9024, 0.0259, 0.6211, 0.9970, 0.0697, 0.5441, 0.7162, 0.4187,\n",
      "         0.9334, 0.7935, 0.6745, 0.1219, 0.8657, 0.6770, 0.2898, 0.1627, 0.7993,\n",
      "         0.2377, 0.5386, 0.1774, 0.4110, 0.9746, 0.0593, 0.9666],\n",
      "        [0.8406, 0.0030, 0.5117, 0.1339, 0.1398, 0.3006, 0.0852, 0.2031, 0.3624,\n",
      "         0.5800, 0.8771, 0.7649, 0.3076, 0.6187, 0.0272, 0.0717, 0.2996, 0.1654,\n",
      "         0.5261, 0.3816, 0.4536, 0.4561, 0.7804, 0.5178, 0.0269],\n",
      "        [0.7672, 0.6230, 0.7057, 0.3803, 0.6335, 0.5552, 0.9560, 0.7138, 0.8313,\n",
      "         0.8962, 0.8903, 0.2273, 0.0727, 0.5504, 0.3429, 0.4204, 0.6551, 0.1656,\n",
      "         0.8770, 0.6763, 0.5507, 0.4270, 0.3583, 0.4446, 0.1044],\n",
      "        [0.4005, 0.4232, 0.3603, 0.1480, 0.9212, 0.8962, 0.7743, 0.9166, 0.9118,\n",
      "         0.7278, 0.5786, 0.8181, 0.4766, 0.1407, 0.9014, 0.3325, 0.2290, 0.7579,\n",
      "         0.1354, 0.5163, 0.5794, 0.2369, 0.8289, 0.5289, 0.0672],\n",
      "        [0.5041, 0.3015, 0.4373, 0.1358, 0.4108, 0.3002, 0.1845, 0.6713, 0.4678,\n",
      "         0.1826, 0.3310, 0.5592, 0.9973, 0.1234, 0.7672, 0.4583, 0.4849, 0.7170,\n",
      "         0.9163, 0.9805, 0.6370, 0.1275, 0.3143, 0.6696, 0.1270],\n",
      "        [0.5311, 0.1157, 0.8583, 0.8565, 0.3139, 0.8918, 0.6597, 0.1521, 0.0949,\n",
      "         0.5097, 0.4666, 0.1698, 0.5502, 0.5211, 0.3064, 0.8038, 0.3435, 0.7575,\n",
      "         0.8595, 0.7696, 0.9693, 0.3841, 0.7983, 0.1006, 0.9259],\n",
      "        [0.2296, 0.7231, 0.2865, 0.9941, 0.0547, 0.0694, 0.6732, 0.0288, 0.1034,\n",
      "         0.9196, 0.7693, 0.2265, 0.7668, 0.9549, 0.8314, 0.1786, 0.4610, 0.3318,\n",
      "         0.8235, 0.7172, 0.7374, 0.3394, 0.4304, 0.4826, 0.3008],\n",
      "        [0.3802, 0.6693, 0.9529, 0.6880, 0.4051, 0.5600, 0.7177, 0.8516, 0.5197,\n",
      "         0.0041, 0.3870, 0.4689, 0.3020, 0.7778, 0.5430, 0.4064, 0.6783, 0.9443,\n",
      "         0.9595, 0.2359, 0.2544, 0.6345, 0.5489, 0.6679, 0.3711]])\n"
     ]
    }
   ],
   "source": [
    "print('what is x: ',x)"
   ]
  },
  {
   "cell_type": "code",
   "execution_count": 108,
   "id": "052dc07a",
   "metadata": {},
   "outputs": [
    {
     "data": {
      "text/plain": [
       "tensor([0.8864, 0.9024, 0.0259, 0.6211, 0.9970, 0.0697, 0.5441, 0.7162, 0.4187,\n",
       "        0.9334])"
      ]
     },
     "execution_count": 108,
     "metadata": {},
     "output_type": "execute_result"
    }
   ],
   "source": [
    "# get 3rd example in the batch and its 10 features\n",
    "x[2, 0:10]    #0:10 : will create a list"
   ]
  },
  {
   "cell_type": "code",
   "execution_count": 111,
   "id": "8a50a463",
   "metadata": {},
   "outputs": [
    {
     "data": {
      "text/plain": [
       "tensor([[1.0000e+02, 9.2295e-01, 2.7327e-01, 7.9843e-01, 8.3757e-01, 4.4972e-01,\n",
       "         9.6917e-01, 7.9616e-01, 1.7509e-01, 2.7854e-01, 3.5326e-01, 8.9329e-01,\n",
       "         7.6791e-02, 3.0118e-01, 9.9629e-02, 2.8501e-01, 6.5820e-01, 5.5182e-01,\n",
       "         6.2563e-01, 8.8217e-01, 3.4159e-01, 8.3918e-01, 8.2326e-01, 7.5968e-01,\n",
       "         4.7519e-02],\n",
       "        [9.2218e-02, 9.2532e-01, 6.7904e-01, 9.6815e-01, 7.5496e-01, 4.8636e-02,\n",
       "         5.8725e-01, 6.2983e-01, 8.0865e-01, 9.3053e-01, 1.6070e-01, 2.3022e-02,\n",
       "         2.9511e-01, 9.3328e-01, 7.2995e-01, 4.3648e-01, 9.3241e-01, 6.5842e-01,\n",
       "         1.1857e-01, 5.6167e-01, 4.4977e-01, 2.4503e-01, 2.7597e-02, 6.4544e-01,\n",
       "         9.1392e-01],\n",
       "        [8.8644e-01, 9.0239e-01, 2.5907e-02, 6.2114e-01, 9.9700e-01, 6.9716e-02,\n",
       "         5.4411e-01, 7.1623e-01, 4.1875e-01, 9.3336e-01, 7.9352e-01, 6.7448e-01,\n",
       "         1.2186e-01, 8.6572e-01, 6.7695e-01, 2.8982e-01, 1.6266e-01, 7.9927e-01,\n",
       "         2.3769e-01, 5.3859e-01, 1.7738e-01, 4.1101e-01, 9.7463e-01, 5.9293e-02,\n",
       "         9.6662e-01],\n",
       "        [8.4057e-01, 2.9960e-03, 5.1170e-01, 1.3387e-01, 1.3984e-01, 3.0058e-01,\n",
       "         8.5225e-02, 2.0310e-01, 3.6240e-01, 5.8000e-01, 8.7712e-01, 7.6494e-01,\n",
       "         3.0758e-01, 6.1873e-01, 2.7209e-02, 7.1672e-02, 2.9963e-01, 1.6536e-01,\n",
       "         5.2615e-01, 3.8164e-01, 4.5364e-01, 4.5606e-01, 7.8040e-01, 5.1778e-01,\n",
       "         2.6855e-02],\n",
       "        [7.6721e-01, 6.2304e-01, 7.0569e-01, 3.8032e-01, 6.3352e-01, 5.5517e-01,\n",
       "         9.5598e-01, 7.1379e-01, 8.3128e-01, 8.9616e-01, 8.9028e-01, 2.2726e-01,\n",
       "         7.2710e-02, 5.5043e-01, 3.4286e-01, 4.2044e-01, 6.5507e-01, 1.6562e-01,\n",
       "         8.7696e-01, 6.7627e-01, 5.5075e-01, 4.2699e-01, 3.5828e-01, 4.4458e-01,\n",
       "         1.0443e-01],\n",
       "        [4.0049e-01, 4.2318e-01, 3.6027e-01, 1.4795e-01, 9.2124e-01, 8.9625e-01,\n",
       "         7.7434e-01, 9.1656e-01, 9.1179e-01, 7.2782e-01, 5.7864e-01, 8.1810e-01,\n",
       "         4.7659e-01, 1.4074e-01, 9.0142e-01, 3.3252e-01, 2.2896e-01, 7.5788e-01,\n",
       "         1.3536e-01, 5.1633e-01, 5.7935e-01, 2.3693e-01, 8.2886e-01, 5.2887e-01,\n",
       "         6.7203e-02],\n",
       "        [5.0411e-01, 3.0146e-01, 4.3726e-01, 1.3584e-01, 4.1083e-01, 3.0021e-01,\n",
       "         1.8448e-01, 6.7126e-01, 4.6784e-01, 1.8255e-01, 3.3105e-01, 5.5920e-01,\n",
       "         9.9731e-01, 1.2342e-01, 7.6725e-01, 4.5831e-01, 4.8485e-01, 7.1705e-01,\n",
       "         9.1627e-01, 9.8051e-01, 6.3698e-01, 1.2746e-01, 3.1429e-01, 6.6961e-01,\n",
       "         1.2698e-01],\n",
       "        [5.3113e-01, 1.1572e-01, 8.5830e-01, 8.5648e-01, 3.1391e-01, 8.9181e-01,\n",
       "         6.5972e-01, 1.5215e-01, 9.4911e-02, 5.0969e-01, 4.6663e-01, 1.6979e-01,\n",
       "         5.5023e-01, 5.2111e-01, 3.0645e-01, 8.0384e-01, 3.4352e-01, 7.5747e-01,\n",
       "         8.5953e-01, 7.6961e-01, 9.6925e-01, 3.8408e-01, 7.9835e-01, 1.0057e-01,\n",
       "         9.2586e-01],\n",
       "        [2.2956e-01, 7.2314e-01, 2.8652e-01, 9.9407e-01, 5.4682e-02, 6.9428e-02,\n",
       "         6.7316e-01, 2.8831e-02, 1.0343e-01, 9.1956e-01, 7.6926e-01, 2.2651e-01,\n",
       "         7.6680e-01, 9.5490e-01, 8.3138e-01, 1.7864e-01, 4.6102e-01, 3.3180e-01,\n",
       "         8.2353e-01, 7.1724e-01, 7.3745e-01, 3.3942e-01, 4.3042e-01, 4.8261e-01,\n",
       "         3.0081e-01],\n",
       "        [3.8024e-01, 6.6931e-01, 9.5290e-01, 6.8800e-01, 4.0515e-01, 5.6001e-01,\n",
       "         7.1773e-01, 8.5163e-01, 5.1968e-01, 4.0758e-03, 3.8699e-01, 4.6892e-01,\n",
       "         3.0197e-01, 7.7779e-01, 5.4296e-01, 4.0640e-01, 6.7828e-01, 9.4430e-01,\n",
       "         9.5950e-01, 2.3591e-01, 2.5442e-01, 6.3448e-01, 5.4895e-01, 6.6786e-01,\n",
       "         3.7108e-01]])"
      ]
     },
     "execution_count": 111,
     "metadata": {},
     "output_type": "execute_result"
    }
   ],
   "source": [
    "#to assign a tensor\n",
    "x[0,0] = 100\n",
    "x"
   ]
  },
  {
   "cell_type": "code",
   "execution_count": 112,
   "id": "059f6bb1",
   "metadata": {},
   "outputs": [
    {
     "name": "stdout",
     "output_type": "stream",
     "text": [
      "tensor([2, 3, 8])\n"
     ]
    }
   ],
   "source": [
    "## Fancy Indexing\n",
    "\n",
    "x = torch.arange(10)\n",
    "indices = [2,3,8]           \n",
    "print(x[indices])"
   ]
  },
  {
   "cell_type": "code",
   "execution_count": 116,
   "id": "e5715ce4",
   "metadata": {},
   "outputs": [
    {
     "name": "stdout",
     "output_type": "stream",
     "text": [
      "what is x : tensor([[0.9083, 0.9799, 0.7053, 0.8198, 0.3890],\n",
      "        [0.5724, 0.6772, 0.1321, 0.4391, 0.5801],\n",
      "        [0.0954, 0.2949, 0.9996, 0.5076, 0.9109]])\n",
      "tensor([0.5801, 0.9083])\n",
      "torch.Size([2])\n"
     ]
    }
   ],
   "source": [
    "x = torch.rand((3,5))\n",
    "print('what is x :', x)\n",
    "rows = torch.tensor([1,0])\n",
    "cols = torch.tensor([4,0])\n",
    "print(x[rows,cols])\n",
    "print(x[rows,cols].shape)"
   ]
  },
  {
   "cell_type": "code",
   "execution_count": 121,
   "id": "f9de79bb",
   "metadata": {},
   "outputs": [
    {
     "name": "stdout",
     "output_type": "stream",
     "text": [
      "tensor([0, 1, 2, 3, 4, 5, 6, 7, 8, 9])\n",
      "tensor([0, 1, 9])\n",
      "tensor([], dtype=torch.int64)\n",
      "tensor([0, 2, 4, 6, 8])\n"
     ]
    }
   ],
   "source": [
    "## More advanced indexing\n",
    "x = torch.arange(10)\n",
    "print(x)\n",
    "#pick out elements <2 and >8\n",
    "print(x[(x < 2)| (x > 8)])    #OR\n",
    "print(x[(x < 2) & (x > 8)])   #AND\n",
    "print(x[x.remainder(2) == 0]) #even or module=0"
   ]
  },
  {
   "cell_type": "code",
   "execution_count": 124,
   "id": "6b8db342",
   "metadata": {},
   "outputs": [
    {
     "name": "stdout",
     "output_type": "stream",
     "text": [
      "tensor([0, 1, 2, 3, 4, 5, 6, 7, 8, 9])\n",
      "tensor([ 0,  2,  4,  6,  8, 10,  6,  7,  8,  9])\n"
     ]
    }
   ],
   "source": [
    "## More operations\n",
    "x = torch.arange(10)\n",
    "print(x)\n",
    "print(torch.where(x > 5, x, x * 2))  # if x >5, set the value to x else return x*2"
   ]
  },
  {
   "cell_type": "code",
   "execution_count": 125,
   "id": "8f8e1730",
   "metadata": {},
   "outputs": [
    {
     "data": {
      "text/plain": [
       "tensor([0, 1, 2, 3, 4])"
      ]
     },
     "execution_count": 125,
     "metadata": {},
     "output_type": "execute_result"
    }
   ],
   "source": [
    "torch.tensor([0,0,1,2,2,3,4]).unique()"
   ]
  },
  {
   "cell_type": "code",
   "execution_count": 126,
   "id": "00073515",
   "metadata": {},
   "outputs": [
    {
     "name": "stdout",
     "output_type": "stream",
     "text": [
      "1\n"
     ]
    }
   ],
   "source": [
    "print(x.ndimension())"
   ]
  },
  {
   "cell_type": "code",
   "execution_count": 128,
   "id": "99afd844",
   "metadata": {},
   "outputs": [
    {
     "name": "stdout",
     "output_type": "stream",
     "text": [
      "10\n"
     ]
    }
   ],
   "source": [
    "print(x.numel())   #to count no. of elements in x"
   ]
  },
  {
   "cell_type": "markdown",
   "id": "fb29c603",
   "metadata": {},
   "source": [
    "### Tensor Reshaping"
   ]
  },
  {
   "cell_type": "code",
   "execution_count": 131,
   "id": "833ff900",
   "metadata": {},
   "outputs": [
    {
     "data": {
      "text/plain": [
       "tensor([[0, 1, 2],\n",
       "        [3, 4, 5],\n",
       "        [6, 7, 8]])"
      ]
     },
     "execution_count": 131,
     "metadata": {},
     "output_type": "execute_result"
    }
   ],
   "source": [
    "x = torch.arange(9)\n",
    "\n",
    "#convert to 3*3 matrix\n",
    "x_3x3 = x.view(3,3)   # act on contineous block of memory\n",
    "x_3x3\n",
    "#OR\n",
    "x_3x3 = x.reshape(3,3)  #contineous memory block not needed, safe to use but computationally difficult\n",
    "x_3x3"
   ]
  },
  {
   "cell_type": "code",
   "execution_count": 137,
   "id": "db952ca5",
   "metadata": {},
   "outputs": [
    {
     "data": {
      "text/plain": [
       "tensor([0, 3, 6, 1, 4, 7, 2, 5, 8])"
      ]
     },
     "execution_count": 137,
     "metadata": {},
     "output_type": "execute_result"
    }
   ],
   "source": [
    "y = x_3x3.t()     #transpose\n",
    "#[0,3,6,1,4,7,2,5,8]   : for 1 element jump in y, there is 3 element jump in x\n",
    "y\n",
    "# y.view(9)    #trows error as not contigeous\n",
    "y.contiguous().view(9)"
   ]
  },
  {
   "cell_type": "code",
   "execution_count": 148,
   "id": "074173bb",
   "metadata": {},
   "outputs": [
    {
     "name": "stdout",
     "output_type": "stream",
     "text": [
      "tensor([[0.9889, 0.5290, 0.6387, 0.2929, 0.3761],\n",
      "        [0.1153, 0.3955, 0.5157, 0.3675, 0.7052],\n",
      "        [0.1658, 0.0671, 0.2024, 0.7210, 0.9577],\n",
      "        [0.4665, 0.0309, 0.6798, 0.8408, 0.1929]])\n",
      "tensor([[0.9889, 0.5290, 0.6387, 0.2929, 0.3761],\n",
      "        [0.1153, 0.3955, 0.5157, 0.3675, 0.7052],\n",
      "        [0.1658, 0.0671, 0.2024, 0.7210, 0.9577],\n",
      "        [0.4665, 0.0309, 0.6798, 0.8408, 0.1929]])\n",
      "tensor([[0.9889, 0.5290, 0.6387, 0.2929, 0.3761, 0.1658, 0.0671, 0.2024, 0.7210,\n",
      "         0.9577],\n",
      "        [0.1153, 0.3955, 0.5157, 0.3675, 0.7052, 0.4665, 0.0309, 0.6798, 0.8408,\n",
      "         0.1929]])\n",
      "torch.Size([2, 10])\n"
     ]
    }
   ],
   "source": [
    "x1 = torch.rand((2,5))\n",
    "x2 = torch.rand((2,5))\n",
    "print(torch.cat((x1,x2)))\n",
    "print(torch.cat((x1,x2), dim=0))\n",
    "(torch.cat((x1,x2), dim=0).shape)\n",
    "print(torch.cat((x1,x2), dim=1))\n",
    "print(torch.cat((x1,x2), dim=1).shape)"
   ]
  },
  {
   "cell_type": "code",
   "execution_count": 150,
   "id": "3c6ca75e",
   "metadata": {},
   "outputs": [
    {
     "data": {
      "text/plain": [
       "torch.Size([10])"
      ]
     },
     "execution_count": 150,
     "metadata": {},
     "output_type": "execute_result"
    }
   ],
   "source": [
    "#Unroll x1\n",
    "z = x1.view(-1)\n",
    "print(z)\n",
    "z.shape"
   ]
  },
  {
   "cell_type": "code",
   "execution_count": 152,
   "id": "38e05dca",
   "metadata": {},
   "outputs": [
    {
     "data": {
      "text/plain": [
       "torch.Size([64, 10])"
      ]
     },
     "execution_count": 152,
     "metadata": {},
     "output_type": "execute_result"
    }
   ],
   "source": [
    "#Complex\n",
    "batch = 64\n",
    "x = torch.rand(batch, 2,5)  #(dim0 = batch, dim1=2, dim2=5)\n",
    "z = x.view(batch, -1)\n",
    "z.shape"
   ]
  },
  {
   "cell_type": "code",
   "execution_count": 155,
   "id": "944b845e",
   "metadata": {},
   "outputs": [
    {
     "data": {
      "text/plain": [
       "torch.Size([64, 5, 2])"
      ]
     },
     "execution_count": 155,
     "metadata": {},
     "output_type": "execute_result"
    }
   ],
   "source": [
    "#switch axis(2,5 to 5,2)\n",
    "\n",
    "z = x.permute(0, 2, 1)    #(dim0, dim2, dim1)\n",
    "z                         #like transpose\n",
    "z.shape"
   ]
  },
  {
   "cell_type": "code",
   "execution_count": 160,
   "id": "d0c6e61a",
   "metadata": {},
   "outputs": [
    {
     "name": "stdout",
     "output_type": "stream",
     "text": [
      "tensor([0, 1, 2, 3, 4, 5, 6, 7, 8, 9])\n",
      "tensor([[0, 1, 2, 3, 4, 5, 6, 7, 8, 9]])\n",
      "torch.Size([1, 10])\n",
      "torch.Size([10, 1])\n"
     ]
    }
   ],
   "source": [
    "x = torch.arange(10)\n",
    "print(x)\n",
    "print(x.unsqueeze(0))    #1*10 vector\n",
    "print(x.unsqueeze(0).shape)     \n",
    "print(x.unsqueeze(1).shape)   #10*1 vectro"
   ]
  },
  {
   "cell_type": "code",
   "execution_count": 163,
   "id": "f621936d",
   "metadata": {},
   "outputs": [
    {
     "name": "stdout",
     "output_type": "stream",
     "text": [
      "torch.Size([1, 10])\n"
     ]
    }
   ],
   "source": [
    "x = torch.arange(10).unsqueeze(0).unsqueeze(1)    #1*1*10\n",
    "x\n",
    "x.shape\n",
    "\n",
    "z = x.squeeze(1)\n",
    "print(z.shape)"
   ]
  }
 ],
 "metadata": {
  "kernelspec": {
   "display_name": "Python 3 (ipykernel)",
   "language": "python",
   "name": "python3"
  },
  "language_info": {
   "codemirror_mode": {
    "name": "ipython",
    "version": 3
   },
   "file_extension": ".py",
   "mimetype": "text/x-python",
   "name": "python",
   "nbconvert_exporter": "python",
   "pygments_lexer": "ipython3",
   "version": "3.7.13"
  }
 },
 "nbformat": 4,
 "nbformat_minor": 5
}
