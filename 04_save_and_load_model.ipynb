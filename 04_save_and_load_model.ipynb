{
 "cells": [
  {
   "cell_type": "markdown",
   "id": "53731f19",
   "metadata": {},
   "source": [
    "## Imports"
   ]
  },
  {
   "cell_type": "code",
   "execution_count": 1,
   "id": "84c95cc5",
   "metadata": {},
   "outputs": [
    {
     "name": "stderr",
     "output_type": "stream",
     "text": [
      "C:\\Users\\kajal\\miniconda3\\envs\\pytorch\\lib\\site-packages\\torchvision\\io\\image.py:13: UserWarning: Failed to load image Python extension: \n",
      "  warn(f\"Failed to load image Python extension: {e}\")\n"
     ]
    }
   ],
   "source": [
    "import torch\n",
    "import torch.nn as nn\n",
    "import torch.optim as optim\n",
    "import torch.nn.functional as F\n",
    "from torch.utils.data import DataLoader\n",
    "import torchvision.datasets as datasets\n",
    "import torchvision.transforms as transforms"
   ]
  },
  {
   "cell_type": "markdown",
   "id": "45e91776",
   "metadata": {},
   "source": [
    "## Set Device"
   ]
  },
  {
   "cell_type": "code",
   "execution_count": 2,
   "id": "9e709b93",
   "metadata": {},
   "outputs": [],
   "source": [
    "device = torch.device('cuda' if torch.cuda.is_available() else 'cpu')"
   ]
  },
  {
   "cell_type": "markdown",
   "id": "af9ae622",
   "metadata": {},
   "source": [
    "## Create Fully Connected Network"
   ]
  },
  {
   "cell_type": "code",
   "execution_count": 3,
   "id": "53e28bab",
   "metadata": {},
   "outputs": [],
   "source": [
    "class CNN(nn.Module):\n",
    "    def __init__(self, in_channels, num_classes):\n",
    "        super(CNN, self).__init__()\n",
    "        self.conv1 = nn.Conv2d(in_channels=1, out_channels=10, kernel_size=(3,3), stride=(1,1), padding=(1,1))\n",
    "        self.pool = nn.MaxPool2d(kernel_size=(2,2), stride=(2,2))\n",
    "        self.conv2 = nn.Conv2d(in_channels=10, out_channels=20, kernel_size=(3,3), stride=(1,1), padding=(1,1))\n",
    "        self.fc1 = nn.Linear(20*7*7, num_classes)\n",
    "        \n",
    "    # Forward method\n",
    "    def forward(self, x):\n",
    "        x = F.relu(self.conv1(x))\n",
    "        x = self.pool(x)\n",
    "        x = F.relu(self.conv2(x))\n",
    "        x = self.pool(x)\n",
    "        x = x.reshape(x.shape[0], -1)\n",
    "        return x"
   ]
  },
  {
   "cell_type": "code",
   "execution_count": 4,
   "id": "ce15bddc",
   "metadata": {},
   "outputs": [],
   "source": [
    "def save_checkpoint(state, filename='my_checkpoint.pth.tar'):\n",
    "    print(\"=> Saving checkpoints\")\n",
    "    torch.save(state, filename)\n",
    "    \n",
    "def load_checkpoint(checkpoint):\n",
    "    print(\"=> Loading Checkpoint\")\n",
    "    model.load_state_dict(checkpoint['state_dict'])\n",
    "    optimizer.load_state_dict(checkpoint['optimizer'])"
   ]
  },
  {
   "cell_type": "code",
   "execution_count": 5,
   "id": "58806538",
   "metadata": {},
   "outputs": [],
   "source": [
    "## Check on random data\n",
    "# model = CNN(3, 10)\n",
    "# x = torch.randn(74,3,32,32)\n",
    "# print(model(x).shape)"
   ]
  },
  {
   "cell_type": "markdown",
   "id": "02de1748",
   "metadata": {},
   "source": [
    "## Hyperparameters"
   ]
  },
  {
   "cell_type": "code",
   "execution_count": 6,
   "id": "6c2fb67d",
   "metadata": {},
   "outputs": [],
   "source": [
    "in_channels = 1\n",
    "num_classes = 10\n",
    "learning_rate = 1e-4\n",
    "batch_size = 1024\n",
    "num_epochs = 10\n",
    "load_model = True    # lets add another hyperparameter"
   ]
  },
  {
   "cell_type": "markdown",
   "id": "33d4de79",
   "metadata": {},
   "source": [
    "## Load Data"
   ]
  },
  {
   "cell_type": "code",
   "execution_count": 7,
   "id": "4ea42404",
   "metadata": {},
   "outputs": [],
   "source": [
    "train_dataset = datasets.MNIST(root='dataset/', train=True, transform= transforms.ToTensor(), download=True)\n",
    "train_loader = DataLoader(dataset=train_dataset, batch_size=batch_size, shuffle=True)\n",
    "\n",
    "test_dataset = datasets.MNIST(root='/dataset', train=False, transform=transforms.ToTensor(), download=True)\n",
    "test_loader = DataLoader(dataset=test_dataset, batch_size=batch_size, shuffle=True)"
   ]
  },
  {
   "cell_type": "markdown",
   "id": "791ed13e",
   "metadata": {},
   "source": [
    "## Initialize Network"
   ]
  },
  {
   "cell_type": "code",
   "execution_count": 8,
   "id": "4b23c9ee",
   "metadata": {},
   "outputs": [],
   "source": [
    "model = CNN(in_channels=in_channels, num_classes=num_classes).to(device)"
   ]
  },
  {
   "cell_type": "markdown",
   "id": "4059aea2",
   "metadata": {},
   "source": [
    "## Loss and Optimizer"
   ]
  },
  {
   "cell_type": "code",
   "execution_count": 9,
   "id": "4cba16ba",
   "metadata": {},
   "outputs": [],
   "source": [
    "criterion = nn.CrossEntropyLoss()\n",
    "optimizer = optim.Adam(model.parameters(), lr=learning_rate)"
   ]
  },
  {
   "cell_type": "code",
   "execution_count": 10,
   "id": "83a3362b",
   "metadata": {},
   "outputs": [
    {
     "name": "stdout",
     "output_type": "stream",
     "text": [
      "=> Loading Checkpoint\n"
     ]
    }
   ],
   "source": [
    "# Now need to load the checkpoint file using the load_model hyperparameter\n",
    "if load_model:\n",
    "    load_checkpoint(torch.load('my_checkpoint.pth.tar'))"
   ]
  },
  {
   "cell_type": "markdown",
   "id": "f7ef90ae",
   "metadata": {},
   "source": [
    "## Train Network"
   ]
  },
  {
   "cell_type": "code",
   "execution_count": 11,
   "id": "7a689196",
   "metadata": {},
   "outputs": [
    {
     "name": "stdout",
     "output_type": "stream",
     "text": [
      "=> Saving checkpoints\n",
      "Loss at epoch 0 was 5.78314\n",
      "Loss at epoch 1 was 5.62543\n",
      "=> Saving checkpoints\n",
      "Loss at epoch 2 was 5.47326\n",
      "Loss at epoch 3 was 5.32902\n",
      "=> Saving checkpoints\n",
      "Loss at epoch 4 was 5.19380\n",
      "Loss at epoch 5 was 5.06688\n",
      "=> Saving checkpoints\n",
      "Loss at epoch 6 was 4.94813\n",
      "Loss at epoch 7 was 4.83475\n",
      "=> Saving checkpoints\n",
      "Loss at epoch 8 was 4.72805\n",
      "Loss at epoch 9 was 4.62700\n"
     ]
    }
   ],
   "source": [
    "## To save and load model, we need to add check_points as dictionary\n",
    "## need to create this checkpoint function above\n",
    "\n",
    "for epoch in range(num_epochs):\n",
    "    losses = []\n",
    "    \n",
    "    #lets say we are saving the epochs after every 'n'(2) epoch\n",
    "    if epoch % 2 == 0:                               # at epoch 2 will write as, epoch == 2\":\n",
    "        checkpoint = {'state_dict': model.state_dict(), 'optimizer': optimizer.state_dict()}     # we can save other parameters also, like lr, epochs etc\n",
    "        save_checkpoint(checkpoint)\n",
    "    \n",
    "    \n",
    "    for batch_idx, (data, targets) in enumerate(train_loader):\n",
    "        data = data.to(device=device)\n",
    "        targets = targets.to(device=device)\n",
    "        \n",
    "#         print(data.shape)           #([64, 1, 28, 28])\n",
    "        #but we want single 784 vector\n",
    "#         data = data.reshape(data.shape[0], -1)\n",
    "#         print(data.shape)\n",
    "        \n",
    "        # Forward\n",
    "        pred = model(data)\n",
    "        loss = criterion(pred, targets)\n",
    "        losses.append(loss.item())\n",
    "        \n",
    "        # Backward\n",
    "        optimizer.zero_grad()\n",
    "        loss.backward()\n",
    "        \n",
    "        # Gradient descent step\n",
    "        optimizer.step()\n",
    "        \n",
    "    mean_loss = sum(losses)/len(losses)\n",
    "    print(f'Loss at epoch {epoch} was {mean_loss:.5f}')"
   ]
  },
  {
   "cell_type": "markdown",
   "id": "564f103f",
   "metadata": {},
   "source": [
    "## Check Accuracy"
   ]
  },
  {
   "cell_type": "code",
   "execution_count": 12,
   "id": "6a6c0e8d",
   "metadata": {},
   "outputs": [],
   "source": [
    "def check_accuracy(loader, model):\n",
    "    if loader.dataset.train:\n",
    "        print(\"Checking accuracy on Training data\")\n",
    "    else:\n",
    "        print(\"Checking accuracy on Test data\")\n",
    "\n",
    "    num_correct = 0\n",
    "    num_samples = 0\n",
    "    model.eval()           # set model in evaluation mode\n",
    "    \n",
    "    with torch.no_grad():   #When we are checking accuracy, no need to find gradient\n",
    "        for x , y in loader:\n",
    "            x = x.to(device=device)\n",
    "            y = y.to(device=device)\n",
    "#             x = x.reshape(x.shape[0], -1)\n",
    "            \n",
    "            pred = model(x)\n",
    "            _, predictions = pred.max(1)\n",
    "            num_correct += (predictions == y).sum()\n",
    "            num_samples += predictions.size(0)     #of 1st dimension\n",
    "            \n",
    "        print(f'Got {num_correct}/{num_samples} with accuracy {float(num_correct)/float(num_samples)*100:.2f}')\n",
    "    \n",
    "    model.train()\n",
    "    "
   ]
  },
  {
   "cell_type": "code",
   "execution_count": 13,
   "id": "1667835d",
   "metadata": {},
   "outputs": [
    {
     "name": "stdout",
     "output_type": "stream",
     "text": [
      "Checking accuracy on Training data\n",
      "Got 1949/60000 with accuracy 3.25\n",
      "Checking accuracy on Test data\n",
      "Got 376/10000 with accuracy 3.76\n"
     ]
    }
   ],
   "source": [
    "check_accuracy(train_loader, model)\n",
    "check_accuracy(test_loader, model)"
   ]
  }
 ],
 "metadata": {
  "kernelspec": {
   "display_name": "Python 3 (ipykernel)",
   "language": "python",
   "name": "python3"
  },
  "language_info": {
   "codemirror_mode": {
    "name": "ipython",
    "version": 3
   },
   "file_extension": ".py",
   "mimetype": "text/x-python",
   "name": "python",
   "nbconvert_exporter": "python",
   "pygments_lexer": "ipython3",
   "version": "3.7.13"
  }
 },
 "nbformat": 4,
 "nbformat_minor": 5
}
