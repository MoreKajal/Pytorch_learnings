{
 "cells": [
  {
   "cell_type": "markdown",
   "id": "d25e93d2",
   "metadata": {},
   "source": [
    "## Gradient with AutoGrad\n",
    "### Gradients are essential for Model Optimization\n",
    "### Autograd package does all the computations for us\n",
    "### We Just need to learn how autograd does this"
   ]
  },
  {
   "cell_type": "code",
   "execution_count": 2,
   "id": "1cb856aa",
   "metadata": {},
   "outputs": [],
   "source": [
    "import torch\n"
   ]
  },
  {
   "cell_type": "code",
   "execution_count": 3,
   "id": "618873db",
   "metadata": {},
   "outputs": [
    {
     "name": "stdout",
     "output_type": "stream",
     "text": [
      "tensor tensor([-0.2404,  0.1262, -0.8172])\n"
     ]
    }
   ],
   "source": [
    "x = torch.randn(3)\n",
    "print('tensor', x)"
   ]
  },
  {
   "cell_type": "code",
   "execution_count": 4,
   "id": "68a2b383",
   "metadata": {},
   "outputs": [
    {
     "name": "stdout",
     "output_type": "stream",
     "text": [
      "tensor([ 0.5869, -0.5716,  0.5889], requires_grad=True)\n"
     ]
    }
   ],
   "source": [
    "# WE we want to calculate gradient of x, we must specify an argument\n",
    "x = torch.randn(3, requires_grad = True)   #default its False\n",
    "print(x)                                    \n",
    "# Now whenever we do computations with this tensor, pytorch creates a Computational graph to trace back"
   ]
  },
  {
   "cell_type": "code",
   "execution_count": 5,
   "id": "04a2f747",
   "metadata": {},
   "outputs": [
    {
     "name": "stdout",
     "output_type": "stream",
     "text": [
      "tensor([2.5869, 1.4284, 2.5889], grad_fn=<AddBackward0>)\n"
     ]
    }
   ],
   "source": [
    "y = x + 2         #This creates a computational graph with input x & 2, with additional '+' node\n",
    "print(y)          # In backword pass it calculates gradient w.r.t input x i.e, dy/dx"
   ]
  },
  {
   "cell_type": "code",
   "execution_count": 6,
   "id": "3f5596d9",
   "metadata": {},
   "outputs": [
    {
     "name": "stdout",
     "output_type": "stream",
     "text": [
      "tensor([13.3843,  4.0808, 13.4046], grad_fn=<MulBackward0>)\n"
     ]
    }
   ],
   "source": [
    "z = y*y*2\n",
    "print(z)     # MulBackward"
   ]
  },
  {
   "cell_type": "code",
   "execution_count": 7,
   "id": "1a3d0331",
   "metadata": {},
   "outputs": [
    {
     "name": "stdout",
     "output_type": "stream",
     "text": [
      "tensor(10.2899, grad_fn=<MeanBackward0>)\n"
     ]
    }
   ],
   "source": [
    "z = z.mean()\n",
    "print(z)     # MeanBackward"
   ]
  },
  {
   "cell_type": "code",
   "execution_count": 8,
   "id": "d5933711",
   "metadata": {},
   "outputs": [
    {
     "name": "stdout",
     "output_type": "stream",
     "text": [
      "tensor([3.4492, 1.9046, 3.4518])\n"
     ]
    }
   ],
   "source": [
    "# Now to calculate gradient of z wrt input, We Must Call 'backward()'\n",
    "z.backward()\n",
    "# Then x gets a .grad attribute where gradients are stored\n",
    "print(x.grad)"
   ]
  },
  {
   "cell_type": "markdown",
   "id": "7bfe8b9f",
   "metadata": {},
   "source": [
    "### Lets see when we dont specify the requires_grad argument"
   ]
  },
  {
   "cell_type": "code",
   "execution_count": 9,
   "id": "0bd3121d",
   "metadata": {},
   "outputs": [
    {
     "name": "stdout",
     "output_type": "stream",
     "text": [
      "tensor([ 0.0513,  0.6298, -0.5112, -1.4634])\n"
     ]
    }
   ],
   "source": [
    "x = torch.randn(4)\n",
    "print(x)"
   ]
  },
  {
   "cell_type": "code",
   "execution_count": 10,
   "id": "eff995e5",
   "metadata": {},
   "outputs": [
    {
     "name": "stdout",
     "output_type": "stream",
     "text": [
      "tensor([2.0513, 2.6298, 1.4888, 0.5366])\n",
      "tensor(6.8141)\n"
     ]
    }
   ],
   "source": [
    "y = x + 2\n",
    "print(y)\n",
    "\n",
    "z = y*y*2\n",
    "z = z.mean()\n",
    "print(z)         # Here the tensors printed doesn't show the grad attribute"
   ]
  },
  {
   "cell_type": "code",
   "execution_count": 11,
   "id": "3522b842",
   "metadata": {},
   "outputs": [
    {
     "ename": "RuntimeError",
     "evalue": "element 0 of tensors does not require grad and does not have a grad_fn",
     "output_type": "error",
     "traceback": [
      "\u001b[1;31m---------------------------------------------------------------------------\u001b[0m",
      "\u001b[1;31mRuntimeError\u001b[0m                              Traceback (most recent call last)",
      "Cell \u001b[1;32mIn [11], line 2\u001b[0m\n\u001b[0;32m      1\u001b[0m \u001b[38;5;66;03m# Now if we call backward function, it will throw error\u001b[39;00m\n\u001b[1;32m----> 2\u001b[0m \u001b[43mz\u001b[49m\u001b[38;5;241;43m.\u001b[39;49m\u001b[43mbackward\u001b[49m\u001b[43m(\u001b[49m\u001b[43m)\u001b[49m\n",
      "File \u001b[1;32m~\\miniconda3\\envs\\pytorch\\lib\\site-packages\\torch\\tensor.py:245\u001b[0m, in \u001b[0;36mTensor.backward\u001b[1;34m(self, gradient, retain_graph, create_graph, inputs)\u001b[0m\n\u001b[0;32m    236\u001b[0m \u001b[38;5;28;01mif\u001b[39;00m has_torch_function_unary(\u001b[38;5;28mself\u001b[39m):\n\u001b[0;32m    237\u001b[0m     \u001b[38;5;28;01mreturn\u001b[39;00m handle_torch_function(\n\u001b[0;32m    238\u001b[0m         Tensor\u001b[38;5;241m.\u001b[39mbackward,\n\u001b[0;32m    239\u001b[0m         (\u001b[38;5;28mself\u001b[39m,),\n\u001b[1;32m   (...)\u001b[0m\n\u001b[0;32m    243\u001b[0m         create_graph\u001b[38;5;241m=\u001b[39mcreate_graph,\n\u001b[0;32m    244\u001b[0m         inputs\u001b[38;5;241m=\u001b[39minputs)\n\u001b[1;32m--> 245\u001b[0m \u001b[43mtorch\u001b[49m\u001b[38;5;241;43m.\u001b[39;49m\u001b[43mautograd\u001b[49m\u001b[38;5;241;43m.\u001b[39;49m\u001b[43mbackward\u001b[49m\u001b[43m(\u001b[49m\u001b[38;5;28;43mself\u001b[39;49m\u001b[43m,\u001b[49m\u001b[43m \u001b[49m\u001b[43mgradient\u001b[49m\u001b[43m,\u001b[49m\u001b[43m \u001b[49m\u001b[43mretain_graph\u001b[49m\u001b[43m,\u001b[49m\u001b[43m \u001b[49m\u001b[43mcreate_graph\u001b[49m\u001b[43m,\u001b[49m\u001b[43m \u001b[49m\u001b[43minputs\u001b[49m\u001b[38;5;241;43m=\u001b[39;49m\u001b[43minputs\u001b[49m\u001b[43m)\u001b[49m\n",
      "File \u001b[1;32m~\\miniconda3\\envs\\pytorch\\lib\\site-packages\\torch\\autograd\\__init__.py:145\u001b[0m, in \u001b[0;36mbackward\u001b[1;34m(tensors, grad_tensors, retain_graph, create_graph, grad_variables, inputs)\u001b[0m\n\u001b[0;32m    142\u001b[0m \u001b[38;5;28;01mif\u001b[39;00m retain_graph \u001b[38;5;129;01mis\u001b[39;00m \u001b[38;5;28;01mNone\u001b[39;00m:\n\u001b[0;32m    143\u001b[0m     retain_graph \u001b[38;5;241m=\u001b[39m create_graph\n\u001b[1;32m--> 145\u001b[0m \u001b[43mVariable\u001b[49m\u001b[38;5;241;43m.\u001b[39;49m\u001b[43m_execution_engine\u001b[49m\u001b[38;5;241;43m.\u001b[39;49m\u001b[43mrun_backward\u001b[49m\u001b[43m(\u001b[49m\n\u001b[0;32m    146\u001b[0m \u001b[43m    \u001b[49m\u001b[43mtensors\u001b[49m\u001b[43m,\u001b[49m\u001b[43m \u001b[49m\u001b[43mgrad_tensors_\u001b[49m\u001b[43m,\u001b[49m\u001b[43m \u001b[49m\u001b[43mretain_graph\u001b[49m\u001b[43m,\u001b[49m\u001b[43m \u001b[49m\u001b[43mcreate_graph\u001b[49m\u001b[43m,\u001b[49m\u001b[43m \u001b[49m\u001b[43minputs\u001b[49m\u001b[43m,\u001b[49m\n\u001b[0;32m    147\u001b[0m \u001b[43m    \u001b[49m\u001b[43mallow_unreachable\u001b[49m\u001b[38;5;241;43m=\u001b[39;49m\u001b[38;5;28;43;01mTrue\u001b[39;49;00m\u001b[43m,\u001b[49m\u001b[43m \u001b[49m\u001b[43maccumulate_grad\u001b[49m\u001b[38;5;241;43m=\u001b[39;49m\u001b[38;5;28;43;01mTrue\u001b[39;49;00m\u001b[43m)\u001b[49m\n",
      "\u001b[1;31mRuntimeError\u001b[0m: element 0 of tensors does not require grad and does not have a grad_fn"
     ]
    }
   ],
   "source": [
    "# Now if we call backward function, it will throw error\n",
    "z.backward()"
   ]
  },
  {
   "cell_type": "code",
   "execution_count": 13,
   "id": "d198d1e8",
   "metadata": {},
   "outputs": [
    {
     "name": "stdout",
     "output_type": "stream",
     "text": [
      "None\n"
     ]
    }
   ],
   "source": [
    "print(x.grad)"
   ]
  },
  {
   "cell_type": "markdown",
   "id": "30e15415",
   "metadata": {},
   "source": [
    "### In Background it creates a Backtorch Jaccobian Product to checkout the gradients J.v  = Partial derivatives * Gradient Vector = Final gradients \n",
    "### This is also called as Chain Rule"
   ]
  },
  {
   "cell_type": "code",
   "execution_count": 26,
   "id": "b46de0fa",
   "metadata": {},
   "outputs": [
    {
     "name": "stdout",
     "output_type": "stream",
     "text": [
      "tensor([ 9.1455, 10.3762,  7.0459,  3.8843], grad_fn=<MulBackward0>)\n"
     ]
    }
   ],
   "source": [
    "# So, in the case without argument, since z is Scalar value,\n",
    "# So, for z with more than 1 value in a tensor\n",
    "x = torch.randn(4, requires_grad = True)        # Will get error if this argument is not added for getting x.grad\n",
    "y = x + 2\n",
    "\n",
    "z = y*y*2\n",
    "print(z)\n",
    "# z.backward()    # if we are calling backword here, will get error, that graad can be implicitly created only for scalar outputs"
   ]
  },
  {
   "cell_type": "code",
   "execution_count": 27,
   "id": "e8a6c4a0",
   "metadata": {},
   "outputs": [
    {
     "name": "stdout",
     "output_type": "stream",
     "text": [
      "tensor([0.8554, 9.1109, 0.0751, 5.6302])\n"
     ]
    }
   ],
   "source": [
    "# So in such a case we have to give a gradient argument, create a some random vector of same size\n",
    "v = torch.tensor([0.1, 1.0, 0.01, 1.01], dtype=torch.float32)\n",
    "# Now pass this vector to backward function\n",
    "z.backward(v)         # if input to backward is not Scalar, then we must multiply a vector'v', to get grad\n",
    "print(x.grad)        "
   ]
  },
  {
   "cell_type": "code",
   "execution_count": null,
   "id": "0df1fc3e",
   "metadata": {},
   "outputs": [],
   "source": []
  },
  {
   "cell_type": "code",
   "execution_count": null,
   "id": "6ba87d3c",
   "metadata": {},
   "outputs": [],
   "source": []
  }
 ],
 "metadata": {
  "kernelspec": {
   "display_name": "Python 3 (ipykernel)",
   "language": "python",
   "name": "python3"
  },
  "language_info": {
   "codemirror_mode": {
    "name": "ipython",
    "version": 3
   },
   "file_extension": ".py",
   "mimetype": "text/x-python",
   "name": "python",
   "nbconvert_exporter": "python",
   "pygments_lexer": "ipython3",
   "version": "3.9.0"
  }
 },
 "nbformat": 4,
 "nbformat_minor": 5
}
